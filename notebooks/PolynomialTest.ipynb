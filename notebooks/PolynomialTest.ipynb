{
 "cells": [
  {
   "cell_type": "code",
   "execution_count": 160,
   "metadata": {},
   "outputs": [
    {
     "name": "stdout",
     "output_type": "stream",
     "text": [
      "The autoreload extension is already loaded. To reload it, use:\n",
      "  %reload_ext autoreload\n"
     ]
    }
   ],
   "source": [
    "%load_ext autoreload\n",
    "%autoreload 2\n",
    "\n",
    "import sys\n",
    "\n",
    "sys.path.append('../nonlin')\n",
    "sys.path.append('../partion')\n",
    "sys.path.append('../1D-difusion')\n",
    "\n",
    "from aspen import aspen\n",
    "from newton import newton\n",
    "\n",
    "import partion\n",
    "import wrapper\n",
    "\n",
    "from one_phase import one_phase\n",
    "import numpy as np\n",
    "import matplotlib.pyplot as plt"
   ]
  },
  {
   "cell_type": "code",
   "execution_count": 161,
   "metadata": {},
   "outputs": [],
   "source": [
    "# some polynomial func\n",
    "class nonlinear_func():\n",
    "    def __init__(self, N_dim, N_deg):\n",
    "        self.A = np.zeros((N_dim, N_dim, N_deg))\n",
    "        self.N = N_dim\n",
    "        self.N_deg = N_deg\n",
    "        self.Jx = np.zeros((N_dim, N_dim))\n",
    "        self.gb_Jx = np.zeros((N_dim, N_dim))\n",
    "    def set_coef(self, deg, A):\n",
    "        self.A[:, : , deg] = A\n",
    "    def val(self, u, st = 0, end = None):\n",
    "        if end == None:\n",
    "            end = self.N\n",
    "        ret = np.zeros((end-st, 1))\n",
    "        for k in range(0, self.N_deg, 1):\n",
    "            ret += self.A[st:end, :, k] @ u**k        \n",
    "        return ret\n",
    "    def jac(self, u, st = 0, end = None):\n",
    "        if end == None:\n",
    "            end = self.N\n",
    "        self.Jx[st:end, st:end] = np.zeros((end-st, end-st))\n",
    "        for k in range(1, self.N_deg, 1):\n",
    "            self.Jx[st:end, st:end] += self.A[st:end, st:end, k] \\\n",
    "                @ np.diag(k * u[st:end].flatten()**(k-1))\n",
    "        return self.Jx[st:end, st:end]\n",
    "    def sec_jac(self, u):\n",
    "        Jxx = np.zeros((self.N, self.N))\n",
    "        for k in range(2, self.N_deg, 1):\n",
    "            Jxx += self.A[:, :, k] \\\n",
    "                @ np.diag(k*(k-1) * u.flatten()**(k-2))\n",
    "        return Jxx\n",
    "    def jac_gb(self, u, domain_borders):\n",
    "        self.gb_Jx = np.copy(self.Jx)\n",
    "\n",
    "        for i in range(domain_borders.shape[0]-1):\n",
    "            st = domain_borders[i]\n",
    "            end = domain_borders[i+1]\n",
    "            for k in range(1, self.N_deg, 1):\n",
    "                self.gb_Jx[st:end, end:] += \\\n",
    "                    self.A[st:end, end:, k] @ np.diag(k * u[end:].flatten()**(k-1))\n",
    "                self.gb_Jx[end:, st:end] += \\\n",
    "                    self.A[end:, st:end, k] @ np.diag(k * u[st:end].flatten()**(k-1))\n",
    "            \n",
    "        return self.gb_Jx, self.Jx\n",
    "        "
   ]
  },
  {
   "cell_type": "code",
   "execution_count": 174,
   "metadata": {},
   "outputs": [],
   "source": [
    "N = 200\n",
    "\n",
    "# let's build a problem form domains\n",
    "f = nonlinear_func(N, 4)\n",
    "\n",
    "A = np.eye(10)+0.5*np.diag(np.ones(9), k = 1) + 0.25*np.diag(np.ones(8), k = 2) \\\n",
    "    + 0.175*np.diag(np.ones(7), k = 3) + 0.0875*np.diag(np.ones(6), k = 4)\n",
    "\n",
    "C = np.diag(np.ones(N-1), k = -1) + 0.5*np.diag(np.ones(N-2), k = -2) \\\n",
    "    + 0.5*np.diag(np.ones(N-3), k = -3) + 0.25*np.diag(np.ones(N-4), k = -4) \\\n",
    "    + 0.25*np.diag(np.ones(N-5), k = -5)\n",
    "\n",
    "# by controlling s_i we contorl number of iterations\n",
    "s1 = - 120*np.linspace(1, 10, N//5+30)\n",
    "s2 = - 20*np.linspace(1, 10, N//5-30)\n",
    "s3 = 2*np.linspace(10, 1.5, N//5)\n",
    "s4 = 2*np.linspace(10, 1.5, N//5)\n",
    "s5 = 2*np.linspace(10, 1.5, N//5)\n",
    "\n",
    "B =  - np.diag(np.concatenate((s1, s2, s3, s4, s5)))\n",
    "\n",
    "f.set_coef(0, B)\n",
    "A3 = np.kron(np.eye(N//10,dtype=int),A)\n",
    "\n",
    "f.set_coef(3, A3)\n",
    "f.set_coef(1, -0.2*C)"
   ]
  },
  {
   "cell_type": "code",
   "execution_count": 175,
   "metadata": {},
   "outputs": [],
   "source": [
    "from time import time"
   ]
  },
  {
   "cell_type": "code",
   "execution_count": 176,
   "metadata": {},
   "outputs": [
    {
     "name": "stdout",
     "output_type": "stream",
     "text": [
      "True 0.3355409622192383\n"
     ]
    }
   ],
   "source": [
    "solver_cl = newton(1e-1)\n",
    "solver_cl.init_func(f)\n",
    "t = 0\n",
    "for k in range(5):\n",
    "    x0 = np.sign(np.arange(200)-100, dtype='float').reshape(-1, 1)\n",
    "    t -= time()\n",
    "    X_cl, code = solver_cl.solve(x0)\n",
    "    t += time()\n",
    "t /= 5\n",
    "print(code, t)"
   ]
  },
  {
   "cell_type": "code",
   "execution_count": 177,
   "metadata": {},
   "outputs": [
    {
     "name": "stdout",
     "output_type": "stream",
     "text": [
      "True 0.035131406784057614\n"
     ]
    }
   ],
   "source": [
    "Nd = 5\n",
    "part = partion.partion_equally(N, Nd)\n",
    "\n",
    "solver_as= aspen(Nd, part, 1e-1, max_gb = 6, max_lc = 160)\n",
    "solver_as.init_func(f)\n",
    "solver_as.init_log()\n",
    "t = 0\n",
    "for k in range(5):\n",
    "    x0 = np.sign(np.arange(200)-100, dtype='float').reshape(-1, 1)\n",
    "    t -= time()\n",
    "    X, mes = solver_as.solve(x0)\n",
    "    t += time()\n",
    "t /= 5\n",
    "print(mes, t)"
   ]
  },
  {
   "cell_type": "code",
   "execution_count": 178,
   "metadata": {},
   "outputs": [
    {
     "name": "stdout",
     "output_type": "stream",
     "text": [
      "[50. 55. 50. 20. 20.]\n"
     ]
    },
    {
     "data": {
      "image/png": "[encoded data removed]",
      "text/plain": [
       "<Figure size 432x288 with 1 Axes>"
      ]
     },
     "metadata": {},
     "output_type": "display_data"
    }
   ],
   "source": [
    "plt.plot(X)\n",
    "plt.style.use('dark_background')\n",
    "plt.plot(np.sign(np.arange(200)-100, dtype='float').reshape(-1, 1))\n",
    "for bd in part[1:-1]:\n",
    "    plt.axvline(bd, linestyle='--')\n",
    "print(solver_as.lc_iters)"
   ]
  },
  {
   "cell_type": "code",
   "execution_count": 180,
   "metadata": {},
   "outputs": [
    {
     "data": {
      "image/png": "[encoded data removed]",
      "text/plain": [
       "<Figure size 288x288 with 2 Axes>"
      ]
     },
     "metadata": {},
     "output_type": "display_data"
    }
   ],
   "source": [
    "W = np.abs(f.jac(x0))\n",
    "W = np.abs(W)\n",
    "W = (W+W.T)\n",
    "\n",
    "cs = plt.matshow(W)\n",
    "plt.colorbar(cs)\n",
    "plt.show()"
   ]
  },
  {
   "cell_type": "code",
   "execution_count": 181,
   "metadata": {},
   "outputs": [
    {
     "name": "stdout",
     "output_type": "stream",
     "text": [
      "[  0  40  80 130 170 200]\n"
     ]
    },
    {
     "data": {
      "image/png": "[encoded data removed]",
      "text/plain": [
       "<Figure size 432x288 with 1 Axes>"
      ]
     },
     "metadata": {},
     "output_type": "display_data"
    }
   ],
   "source": [
    "Nd = 5\n",
    "borders = partion.domain_builder2(W, Nd, k = Nd+2)\n",
    "print(borders)\n",
    "\n",
    "plt.plot(X)\n",
    "plt.style.use('dark_background')\n",
    "plt.plot(np.sign(np.arange(200)-100, dtype='float').reshape(-1, 1))\n",
    "for bd in borders[1:-1]:\n",
    "    plt.axvline(bd, linestyle='--')"
   ]
  },
  {
   "cell_type": "code",
   "execution_count": 182,
   "metadata": {},
   "outputs": [
    {
     "name": "stdout",
     "output_type": "stream",
     "text": [
      "True 0.030772304534912108\n"
     ]
    }
   ],
   "source": [
    "Nd = 5\n",
    "solver_as = aspen(Nd, borders, 1e-1, max_gb = 6, max_lc = 20)\n",
    "solver_as.init_func(f)\n",
    "solver_as.init_log()\n",
    "t = 0\n",
    "for k in range(5):\n",
    "    t -= time()\n",
    "    x0 = np.sign(np.arange(200)-100, dtype='float').reshape(-1, 1)\n",
    "    X, message = solver_as.solve(x0)\n",
    "    t += time()\n",
    "t /= 5\n",
    "print(message, t)"
   ]
  },
  {
   "cell_type": "code",
   "execution_count": 183,
   "metadata": {},
   "outputs": [
    {
     "name": "stdout",
     "output_type": "stream",
     "text": [
      "[50. 55. 50. 20. 20.]\n"
     ]
    }
   ],
   "source": [
    "print(solver_as.lc_iters)"
   ]
  },
  {
   "cell_type": "code",
   "execution_count": 184,
   "metadata": {},
   "outputs": [],
   "source": [
    "bd_arr = []\n",
    "t_arr = []\n",
    "Nd = 5\n",
    "for k in range(60):\n",
    "    borders = partion.generate_random(N, Nd)\n",
    "    t -= time()\n",
    "    x0 = np.sign(np.arange(200)-100, dtype='float').reshape(-1, 1)\n",
    "    solver_as = aspen(Nd, borders, 1e-1, max_gb = 6, max_lc = 20)\n",
    "    solver_as.init_func(f)\n",
    "    solver_as.init_log()\n",
    "    X, message = solver_as.solve(x0)\n",
    "    t += time()\n",
    "    if message == 'OK':\n",
    "        t_arr.append(t)\n",
    "        bd_arr.append(t)\n",
    "        \n",
    "bd_arr = np.array(bd_arr)\n",
    "t_arr = np.array(bd_arr)"
   ]
  },
  {
   "cell_type": "code",
   "execution_count": 185,
   "metadata": {},
   "outputs": [
    {
     "name": "stdout",
     "output_type": "stream",
     "text": [
      "[]\n"
     ]
    }
   ],
   "source": [
    "print(bd_arr)"
   ]
  },
  {
   "cell_type": "code",
   "execution_count": null,
   "metadata": {},
   "outputs": [],
   "source": []
  }
 ],
 "metadata": {
  "kernelspec": {
   "display_name": "Py3 study",
   "language": "python",
   "name": "py3_study"
  },
  "language_info": {
   "codemirror_mode": {
    "name": "ipython",
    "version": 3
   },
   "file_extension": ".py",
   "mimetype": "text/x-python",
   "name": "python",
   "nbconvert_exporter": "python",
   "pygments_lexer": "ipython3",
   "version": "3.7.9"
  }
 },
 "nbformat": 4,
 "nbformat_minor": 4
}
