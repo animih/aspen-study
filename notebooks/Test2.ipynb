{
 "cells": [
  {
   "cell_type": "code",
   "execution_count": 2,
   "metadata": {},
   "outputs": [],
   "source": [
    "%load_ext autoreload\n",
    "%autoreload 2\n",
    "\n",
    "import sys\n",
    "\n",
    "sys.path.append('./nonlin')\n",
    "sys.path.append('./partion')\n",
    "sys.path.append('./1D-difusion')\n",
    "\n",
    "from aspen import aspen\n",
    "from newton import newton\n",
    "\n",
    "import partion\n",
    "\n",
    "from one_phase import one_phase\n",
    "import numpy as np\n",
    "import matplotlib.pyplot as plt"
   ]
  },
  {
   "cell_type": "code",
   "execution_count": 3,
   "metadata": {},
   "outputs": [],
   "source": [
    "def model(u):\n",
    "    return np.array([u**2+1, 2*max(u, 0)])\n",
    "\n",
    "class Diffusion():\n",
    "    def __init__(self, Nx, Amp=0, Period=0, Scale=1, model=None):\n",
    "        self.val = np.zeros((Nx+1, 1))\n",
    "        for i in range(Nx+1):\n",
    "            self.val[i] = (\n",
    "                Amp * np.sin(Period * 2*np.pi * (i+1) / (Nx+1)) + 1) * Scale\n",
    "        self.model = model"
   ]
  },
  {
   "cell_type": "code",
   "execution_count": 4,
   "metadata": {},
   "outputs": [
    {
     "data": {
      "image/png": "[encoded data removed]",
      "text/plain": [
       "<Figure size 432x288 with 1 Axes>"
      ]
     },
     "metadata": {},
     "output_type": "display_data"
    }
   ],
   "source": [
    "plt.style.use('dark_background')\n",
    "# inital condition\n",
    "Nx = 1000\n",
    "Nt = 100\n",
    "\n",
    "D = Diffusion(Nx, 0.9, 1, 0.5e-1, model=model)\n",
    "bd1 = 0\n",
    "bd2 = 1\n",
    "\n",
    "x0 = np.arange(Nx)/(Nx-1)\n",
    "x0 = np.sinh(20*(x0-0.5))\n",
    "x0 /= np.max(x0)\n",
    "x0 = (x0+1)/2\n",
    "x0 = np.reshape(x0, (-1, 1))\n",
    "plt.xlabel('x0')\n",
    "plt.ylabel('u')\n",
    "plt.plot(x0)\n",
    "\n",
    "setInitial = lambda x: x#.setInitial(0.2, 1, 1) \n",
    "setSources = lambda x: x#.setSources([0.9], [-17.9])"
   ]
  },
  {
   "cell_type": "code",
   "execution_count": 6,
   "metadata": {},
   "outputs": [
    {
     "name": "stdout",
     "output_type": "stream",
     "text": [
      "newton log initialized\n"
     ]
    },
    {
     "ename": "KeyboardInterrupt",
     "evalue": "",
     "output_type": "error",
     "traceback": [
      "\u001b[0;31m---------------------------------------------------------------------------\u001b[0m",
      "\u001b[0;31mKeyboardInterrupt\u001b[0m                         Traceback (most recent call last)",
      "\u001b[0;32m<ipython-input-6-586fdc671296>\u001b[0m in \u001b[0;36m<module>\u001b[0;34m\u001b[0m\n\u001b[1;32m     13\u001b[0m     \u001b[0msetSources\u001b[0m\u001b[0;34m(\u001b[0m\u001b[0msolver_cl\u001b[0m\u001b[0;34m)\u001b[0m\u001b[0;34m\u001b[0m\u001b[0;34m\u001b[0m\u001b[0m\n\u001b[1;32m     14\u001b[0m \u001b[0;34m\u001b[0m\u001b[0m\n\u001b[0;32m---> 15\u001b[0;31m     \u001b[0mX_cl\u001b[0m\u001b[0;34m,\u001b[0m \u001b[0mcode\u001b[0m\u001b[0;34m,\u001b[0m \u001b[0mmessage\u001b[0m \u001b[0;34m=\u001b[0m \u001b[0msolver_cl\u001b[0m\u001b[0;34m.\u001b[0m\u001b[0msolve\u001b[0m\u001b[0;34m(\u001b[0m\u001b[0;34m)\u001b[0m\u001b[0;34m\u001b[0m\u001b[0;34m\u001b[0m\u001b[0m\n\u001b[0m\u001b[1;32m     16\u001b[0m     \u001b[0mt_new\u001b[0m \u001b[0;34m+=\u001b[0m \u001b[0msolver_cl\u001b[0m\u001b[0;34m.\u001b[0m\u001b[0mtimelog\u001b[0m\u001b[0;34m.\u001b[0m\u001b[0mres\u001b[0m\u001b[0;34m+\u001b[0m\u001b[0msolver_cl\u001b[0m\u001b[0;34m.\u001b[0m\u001b[0mtimelog\u001b[0m\u001b[0;34m.\u001b[0m\u001b[0mjac\u001b[0m\u001b[0;31m \u001b[0m\u001b[0;31m\\\u001b[0m\u001b[0;34m\u001b[0m\u001b[0;34m\u001b[0m\u001b[0m\n\u001b[1;32m     17\u001b[0m       \u001b[0;34m+\u001b[0m\u001b[0msolver_cl\u001b[0m\u001b[0;34m.\u001b[0m\u001b[0mtimelog\u001b[0m\u001b[0;34m.\u001b[0m\u001b[0mlin\u001b[0m\u001b[0;34m\u001b[0m\u001b[0;34m\u001b[0m\u001b[0m\n",
      "\u001b[0;32m~/Рабочий стол/aspen-study/1D-difusion/one_phase.py\u001b[0m in \u001b[0;36msolve\u001b[0;34m(self)\u001b[0m\n\u001b[1;32m    121\u001b[0m                 \u001b[0mself\u001b[0m\u001b[0;34m.\u001b[0m\u001b[0msolver\u001b[0m\u001b[0;34m.\u001b[0m\u001b[0minit_log\u001b[0m\u001b[0;34m(\u001b[0m\u001b[0;34m)\u001b[0m\u001b[0;34m\u001b[0m\u001b[0;34m\u001b[0m\u001b[0m\n\u001b[1;32m    122\u001b[0m \u001b[0;34m\u001b[0m\u001b[0m\n\u001b[0;32m--> 123\u001b[0;31m             \u001b[0mX\u001b[0m\u001b[0;34m,\u001b[0m \u001b[0mmes\u001b[0m \u001b[0;34m=\u001b[0m \u001b[0mself\u001b[0m\u001b[0;34m.\u001b[0m\u001b[0msolver\u001b[0m\u001b[0;34m.\u001b[0m\u001b[0msolve\u001b[0m\u001b[0;34m(\u001b[0m\u001b[0mself\u001b[0m\u001b[0;34m.\u001b[0m\u001b[0mfunc\u001b[0m\u001b[0;34m,\u001b[0m \u001b[0mX\u001b[0m\u001b[0;34m)\u001b[0m\u001b[0;34m\u001b[0m\u001b[0;34m\u001b[0m\u001b[0m\n\u001b[0m\u001b[1;32m    124\u001b[0m \u001b[0;34m\u001b[0m\u001b[0m\n\u001b[1;32m    125\u001b[0m             \u001b[0;32mif\u001b[0m \u001b[0;32mnot\u001b[0m\u001b[0;34m(\u001b[0m\u001b[0mmes\u001b[0m\u001b[0;34m)\u001b[0m\u001b[0;34m:\u001b[0m\u001b[0;34m\u001b[0m\u001b[0;34m\u001b[0m\u001b[0m\n",
      "\u001b[0;32m~/Рабочий стол/aspen-study/nonlin/newton.py\u001b[0m in \u001b[0;36msolve\u001b[0;34m(self, f, X0)\u001b[0m\n\u001b[1;32m     47\u001b[0m             \u001b[0;31m# jacobian\u001b[0m\u001b[0;34m\u001b[0m\u001b[0;34m\u001b[0m\u001b[0;34m\u001b[0m\u001b[0m\n\u001b[1;32m     48\u001b[0m             \u001b[0mt_jac\u001b[0m \u001b[0;34m=\u001b[0m \u001b[0;34m-\u001b[0m \u001b[0mtime\u001b[0m\u001b[0;34m(\u001b[0m\u001b[0;34m)\u001b[0m\u001b[0;34m\u001b[0m\u001b[0;34m\u001b[0m\u001b[0m\n\u001b[0;32m---> 49\u001b[0;31m             \u001b[0mJ\u001b[0m \u001b[0;34m=\u001b[0m \u001b[0mf\u001b[0m\u001b[0;34m.\u001b[0m\u001b[0mjac\u001b[0m\u001b[0;34m(\u001b[0m\u001b[0mX\u001b[0m\u001b[0;34m)\u001b[0m\u001b[0;34m\u001b[0m\u001b[0;34m\u001b[0m\u001b[0m\n\u001b[0m\u001b[1;32m     50\u001b[0m             \u001b[0mt_jac\u001b[0m \u001b[0;34m+=\u001b[0m \u001b[0mtime\u001b[0m\u001b[0;34m(\u001b[0m\u001b[0;34m)\u001b[0m\u001b[0;34m\u001b[0m\u001b[0;34m\u001b[0m\u001b[0m\n\u001b[1;32m     51\u001b[0m \u001b[0;34m\u001b[0m\u001b[0m\n",
      "\u001b[0;32m~/Рабочий стол/aspen-study/1D-difusion/one_phase.py\u001b[0m in \u001b[0;36mjac\u001b[0;34m(self, X)\u001b[0m\n\u001b[1;32m    307\u001b[0m             \u001b[0mJf\u001b[0m \u001b[0;34m=\u001b[0m \u001b[0mnp\u001b[0m\u001b[0;34m.\u001b[0m\u001b[0mzeros\u001b[0m\u001b[0;34m(\u001b[0m\u001b[0;34m(\u001b[0m\u001b[0mN\u001b[0m\u001b[0;34m+\u001b[0m\u001b[0;36m1\u001b[0m\u001b[0;34m,\u001b[0m \u001b[0;36m2\u001b[0m\u001b[0;34m)\u001b[0m\u001b[0;34m)\u001b[0m\u001b[0;34m\u001b[0m\u001b[0;34m\u001b[0m\u001b[0m\n\u001b[1;32m    308\u001b[0m             \u001b[0;32mfor\u001b[0m \u001b[0mi\u001b[0m \u001b[0;32min\u001b[0m \u001b[0mrange\u001b[0m\u001b[0;34m(\u001b[0m\u001b[0mN\u001b[0m\u001b[0;34m+\u001b[0m\u001b[0;36m1\u001b[0m\u001b[0;34m)\u001b[0m\u001b[0;34m:\u001b[0m\u001b[0;34m\u001b[0m\u001b[0;34m\u001b[0m\u001b[0m\n\u001b[0;32m--> 309\u001b[0;31m                 \u001b[0mJf\u001b[0m\u001b[0;34m[\u001b[0m\u001b[0mi\u001b[0m\u001b[0;34m,\u001b[0m \u001b[0;34m:\u001b[0m\u001b[0;34m]\u001b[0m \u001b[0;34m=\u001b[0m \u001b[0mself\u001b[0m\u001b[0;34m.\u001b[0m\u001b[0mouter\u001b[0m\u001b[0;34m.\u001b[0m\u001b[0mFluxJac\u001b[0m\u001b[0;34m(\u001b[0m\u001b[0mX\u001b[0m\u001b[0;34m,\u001b[0m \u001b[0mi\u001b[0m\u001b[0;34m)\u001b[0m\u001b[0;34m\u001b[0m\u001b[0;34m\u001b[0m\u001b[0m\n\u001b[0m\u001b[1;32m    310\u001b[0m \u001b[0;34m\u001b[0m\u001b[0m\n\u001b[1;32m    311\u001b[0m             \u001b[0;32mfor\u001b[0m \u001b[0mi\u001b[0m \u001b[0;32min\u001b[0m \u001b[0mrange\u001b[0m\u001b[0;34m(\u001b[0m\u001b[0mN\u001b[0m\u001b[0;34m)\u001b[0m\u001b[0;34m:\u001b[0m\u001b[0;34m\u001b[0m\u001b[0;34m\u001b[0m\u001b[0m\n",
      "\u001b[0;32m~/Рабочий стол/aspen-study/1D-difusion/one_phase.py\u001b[0m in \u001b[0;36mFluxJac\u001b[0;34m(self, X, i)\u001b[0m\n\u001b[1;32m    227\u001b[0m                         \u001b[0md_dx\u001b[0m \u001b[0;34m=\u001b[0m \u001b[0;36m0\u001b[0m\u001b[0;34m\u001b[0m\u001b[0;34m\u001b[0m\u001b[0m\n\u001b[1;32m    228\u001b[0m \u001b[0;34m\u001b[0m\u001b[0m\n\u001b[0;32m--> 229\u001b[0;31m                 \u001b[0mval\u001b[0m\u001b[0;34m[\u001b[0m\u001b[0;36m0\u001b[0m\u001b[0;34m,\u001b[0m\u001b[0mj\u001b[0m\u001b[0;34m]\u001b[0m \u001b[0;34m=\u001b[0m \u001b[0;34m-\u001b[0m\u001b[0mself\u001b[0m\u001b[0;34m.\u001b[0m\u001b[0mD\u001b[0m\u001b[0;34m.\u001b[0m\u001b[0mval\u001b[0m\u001b[0;34m[\u001b[0m\u001b[0mi\u001b[0m\u001b[0;34m]\u001b[0m \u001b[0;34m*\u001b[0m \u001b[0mself\u001b[0m\u001b[0;34m.\u001b[0m\u001b[0mparam\u001b[0m\u001b[0;34m.\u001b[0m\u001b[0mNx\u001b[0m\u001b[0;34m**\u001b[0m\u001b[0;36m2\u001b[0m\u001b[0;34m*\u001b[0m\u001b[0;34m(\u001b[0m\u001b[0mx_dx\u001b[0m \u001b[0;34m*\u001b[0m   \u001b[0;34m(\u001b[0m\u001b[0mdelta\u001b[0m\u001b[0;34m[\u001b[0m\u001b[0;36m1\u001b[0m\u001b[0;34m]\u001b[0m\u001b[0;34m-\u001b[0m\u001b[0mdelta\u001b[0m\u001b[0;34m[\u001b[0m\u001b[0;36m0\u001b[0m\u001b[0;34m]\u001b[0m\u001b[0;34m)\u001b[0m\u001b[0;34m+\u001b[0m\u001b[0mmult\u001b[0m\u001b[0;34m[\u001b[0m\u001b[0;36m0\u001b[0m\u001b[0;34m]\u001b[0m\u001b[0;34m*\u001b[0m\u001b[0md_dx\u001b[0m\u001b[0;34m)\u001b[0m\u001b[0;34m\u001b[0m\u001b[0;34m\u001b[0m\u001b[0m\n\u001b[0m\u001b[1;32m    230\u001b[0m         \u001b[0;32melse\u001b[0m\u001b[0;34m:\u001b[0m\u001b[0;34m\u001b[0m\u001b[0;34m\u001b[0m\u001b[0m\n\u001b[1;32m    231\u001b[0m             \u001b[0;32mpass\u001b[0m\u001b[0;34m\u001b[0m\u001b[0;34m\u001b[0m\u001b[0m\n",
      "\u001b[0;31mKeyboardInterrupt\u001b[0m: "
     ]
    }
   ],
   "source": [
    "param = {\n",
    "    'Nx': Nx, \n",
    "    'Nt': Nt,\n",
    "}\n",
    "t_new = np.inf\n",
    "for k in range(4):\n",
    "    nl_solver = newton(1e-2, kmax = 14, crit_abs = 1e-3)\n",
    "    solver_cl = one_phase(param, D, nl_solver)\n",
    "    solver_cl.init_log()\n",
    "    solver_cl.setBoundary(bd1, bd2)\n",
    "    solver_cl.x0 = np.copy(x0)\n",
    "    #setInitial(solver_cl)\n",
    "    setSources(solver_cl)\n",
    "\n",
    "    X_cl, code, message = solver_cl.solve()\n",
    "    t_new += solver_cl.timelog.res+solver_cl.timelog.jac \\\n",
    "      +solver_cl.timelog.lin\n",
    "    \n",
    "t_new /= 4\n",
    "print(message)\n",
    "print('mean newton iterations: ', np.mean(solver_cl.timelog.kn))\n",
    "print('best time:', t_new)"
   ]
  },
  {
   "cell_type": "code",
   "execution_count": null,
   "metadata": {},
   "outputs": [],
   "source": [
    "# we treet the value in time at particular coord as a variable\n",
    "# let's visualize the covariance matrix of these varibles\n",
    "\n",
    "cov_m = np.cov(X_cl)\n",
    "cs = plt.matshow(cov_m)\n",
    "cbar = plt.colorbar(cs)\n",
    "plt.show()\n",
    "\n",
    "cs = plt.matshow(np.abs(cov_m))\n",
    "cbar = plt.colorbar(cs)\n",
    "plt.show()"
   ]
  },
  {
   "cell_type": "code",
   "execution_count": 6,
   "metadata": {},
   "outputs": [],
   "source": [
    "# hm...\n",
    "\n",
    "def block_pnorm(m_cov, borders):\n",
    "    N = m_cov.shape[0]\n",
    "    nd = borders.shape[0]-1\n",
    "    val = 0\n",
    "    for i in range(1, nd):\n",
    "        start = borders[i-1]\n",
    "        end = borders[i]\n",
    "        val += np.sum(m_cov[start:end, start:end]**2)\\\n",
    "            /(np.sum(m_cov[end:, start:end]**2)+np.sum(m_cov[start:end, end:]**2))\n",
    "    val\n",
    "    return val\n",
    "\n",
    "def neighbour(domain_borders):\n",
    "    nd = domain_borders.shape[0]-1\n",
    "    neig = np.copy(domain_borders)\n",
    "    for i in range(1, nd):\n",
    "        bd = neig[i]\n",
    "        left = (bd-1 != neig[i-1])\n",
    "        right = (bd+1 != neig[i+1])\n",
    "        \n",
    "        if left and right:\n",
    "            neig[i] += np.random.randint(-1, 1)\n",
    "        elif left:\n",
    "            neig[i] += np.random.randint(-1, 0)\n",
    "        elif right:\n",
    "            neig[i] += np.random.randint(0, 1)\n",
    "            \n",
    "    return neig"
   ]
  },
  {
   "cell_type": "code",
   "execution_count": 35,
   "metadata": {},
   "outputs": [
    {
     "name": "stdout",
     "output_type": "stream",
     "text": [
      "[   0  250  500  750 1000]\n",
      "before: -5.74E-01\n",
      "after: -5.95E-01\n",
      "it works!\n",
      "[   0   52  406  732 1000]\n"
     ]
    }
   ],
   "source": [
    "# start value\n",
    "Nd = 4\n",
    "part = partion.partion_equally(Nx, Nd)\n",
    "print(part)\n",
    "borders = np.copy(part)\n",
    "\n",
    "T0 = 19600\n",
    "val_start = -block_pnorm(cov_m, borders)\n",
    "val_prev = np.copy(val_start)\n",
    "for k in range(1, 4500, 5):\n",
    "    T = T0/np.exp(0.1*k)\n",
    "    borders_new = neighbour(borders)\n",
    "    val = -block_pnorm(cov_m, borders_new)\n",
    "    if (val < val_prev) or (np.random.rand() < np.exp(-(val-val_prev)/(T))):\n",
    "        borders = np.copy(borders_new)\n",
    "        val_prev = np.copy(val)\n",
    "\n",
    "        \n",
    "val_end = -block_pnorm(cov_m, borders)\n",
    "print('before: {:.2E}'.format(val_start))\n",
    "print('after: {:.2E}'.format(val_end))\n",
    "if(val_start > val_end):\n",
    "    print('it works!')\n",
    "print(borders)"
   ]
  },
  {
   "cell_type": "code",
   "execution_count": 36,
   "metadata": {},
   "outputs": [
    {
     "data": {
      "image/png": "[encoded data removed]",
      "text/plain": [
       "<Figure size 288x288 with 2 Axes>"
      ]
     },
     "metadata": {},
     "output_type": "display_data"
    }
   ],
   "source": [
    "cs = plt.matshow(cov_m)\n",
    "cbar = plt.colorbar(cs)\n",
    "for i in range(1, Nd+1):\n",
    "    start = borders[i-1]\n",
    "    end = borders[i]\n",
    "    plt.plot([start, end, end, start, start],\n",
    "             [start, start, end, end, start],\n",
    "             linestyle='--', color='r')\n",
    "plt.show()"
   ]
  },
  {
   "cell_type": "code",
   "execution_count": 37,
   "metadata": {},
   "outputs": [
    {
     "name": "stdout",
     "output_type": "stream",
     "text": [
      "ASPEN log initialized\n",
      "ASPEN log initialized\n",
      "ASPEN log initialized\n",
      "ASPEN log initialized\n",
      "ASPEN log initialized\n",
      "OK\n",
      "mean aspen iterations:  1.99\n",
      "best time: 73.80619478225708\n"
     ]
    }
   ],
   "source": [
    "t_1 = np.inf\n",
    "\n",
    "for k in range(5):\n",
    "    nl_solver = aspen(Nd, borders, 1e-2, crit_abs = 1e-3)\n",
    "    solver_1 = one_phase(param, D, nl_solver)\n",
    "    solver_1.init_log()\n",
    "    solver_1.setBoundary(bd1, bd2)\n",
    "    solver_1.x0 = np.copy(x0)\n",
    "    #setInitial(solver_as)\n",
    "    \n",
    "    setSources(solver_1)\n",
    "    X, code, message = solver_1.solve()\n",
    "    t = solver_1.timelog.gb_res+solver_1.timelog.gb_jac \\\n",
    "      +solver_1.timelog.gb_lin+np.sum(solver_1.timelog.lc_res) \\\n",
    "      +np.sum(solver_1.timelog.lc_jac)+np.sum(solver_1.timelog.lc_lin)\n",
    "    if t < t_1:\n",
    "        t_1 = np.copy(t) \n",
    "print(message)\n",
    "print('mean aspen iterations: ', np.mean(solver_1.timelog.aspen_iters))\n",
    "print('best time:', t_1)"
   ]
  },
  {
   "cell_type": "code",
   "execution_count": null,
   "metadata": {},
   "outputs": [],
   "source": []
  },
  {
   "cell_type": "code",
   "execution_count": null,
   "metadata": {},
   "outputs": [],
   "source": []
  }
 ],
 "metadata": {
  "kernelspec": {
   "display_name": "Py3 study",
   "language": "python",
   "name": "py3_study"
  },
  "language_info": {
   "codemirror_mode": {
    "name": "ipython",
    "version": 3
   },
   "file_extension": ".py",
   "mimetype": "text/x-python",
   "name": "python",
   "nbconvert_exporter": "python",
   "pygments_lexer": "ipython3",
   "version": "3.7.9"
  }
 },
 "nbformat": 4,
 "nbformat_minor": 4
}
