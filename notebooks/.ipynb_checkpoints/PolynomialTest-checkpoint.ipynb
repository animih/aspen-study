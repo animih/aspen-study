{
 "cells": [
  {
   "cell_type": "code",
   "execution_count": 1,
   "metadata": {},
   "outputs": [],
   "source": [
    "%load_ext autoreload\n",
    "%autoreload 2\n",
    "\n",
    "import sys\n",
    "\n",
    "sys.path.append('../nonlin')\n",
    "sys.path.append('../partion')\n",
    "sys.path.append('../1D-difusion')\n",
    "\n",
    "from aspen import aspen\n",
    "from newton import newton\n",
    "\n",
    "import partion\n",
    "from partion import metrics1, metrics2, m1, m2, m3\n",
    "import wrapper\n",
    "\n",
    "from one_phase import one_phase\n",
    "import numpy as np\n",
    "import matplotlib.pyplot as plt"
   ]
  },
  {
   "cell_type": "code",
   "execution_count": 2,
   "metadata": {},
   "outputs": [],
   "source": [
    "# some polynomial func\n",
    "class nonlinear_func():\n",
    "    def __init__(self, N_dim, N_deg):\n",
    "        self.A = np.zeros((N_dim, N_dim, N_deg))\n",
    "        self.N_dim = N_dim\n",
    "        self.N_deg = N_deg\n",
    "    def set_coef(self, deg, A):\n",
    "        self.A[:, : , deg] = A\n",
    "    def val(self, u):\n",
    "        ret = np.zeros(self.N_dim)\n",
    "        for k in range(0, self.N_deg, 1):\n",
    "            ret += self.A[:, :, k] @ u**k        \n",
    "        return ret\n",
    "    def jac(self, u):\n",
    "        ret = np.zeros((self.N_dim, self.N_dim))\n",
    "        for k in range(1, self.N_deg, 1):\n",
    "            ret += self.A[:, :, k] @ np.diag(k * u**(k-1))\n",
    "        return ret\n",
    "    def val_lc(self, u, start, end):\n",
    "        ret = np.zeros(end-start)\n",
    "        for k in range(0, self.N_deg, 1):\n",
    "            ret += self.A[start:end, :, k] @ u**k  \n",
    "        return ret\n",
    "    def jac_lc(self, u, u_start, u_end, f_start=None, f_end=None):\n",
    "        if(f_start == None or f_end == None):\n",
    "            f_start, f_end = u_start, u_end\n",
    "            \n",
    "        ret = np.zeros((f_end-f_start, u_end-u_start))\n",
    "        for k in range(1, self.N_deg, 1):\n",
    "            ret += self.A[f_start:f_end, u_start:u_end, k] \\\n",
    "                @ np.diag(k * u[u_start:u_end]**(k-1))\n",
    "        return ret\n",
    "    \n",
    "    def jac_gb(self, u_loc, u_prev, s):\n",
    "        start = s[0]\n",
    "        end = s[1]\n",
    "        \n",
    "        J, D = np.zeros((self.N_dim, self.N_dim)), np.zeros((self.N_dim, self.N_dim))\n",
    "\n",
    "        for i in range(s.shape[0]-1):\n",
    "            start = s[i]\n",
    "            end = s[i+1]\n",
    "            \n",
    "            J1 = self.get_jac_lc(u_loc, start, end)\n",
    "            J[start:end, start:end] += J1\n",
    "            D[start:end, start:end] += J1\n",
    "            \n",
    "            J[start:end, end:] += self.get_jac_lc(u_prev, end, self.N_dim, start, end)\n",
    "            J[end:, start:end] += self.get_jac_lc(u_prev, start, end, end, self.N_dim)\n",
    "            \n",
    "        return J, D"
   ]
  },
  {
   "cell_type": "code",
   "execution_count": 3,
   "metadata": {},
   "outputs": [],
   "source": [
    "N = 200\n",
    "\n",
    "# let's build a problem form domains\n",
    "f = nonlinear_func(N, 4)\n",
    "\n",
    "A = np.eye(10)+0.5*np.diag(np.ones(9), k = 1) + 0.25*np.diag(np.ones(8), k = 2) \\\n",
    "    + 0.175*np.diag(np.ones(7), k = 3) + 0.0875*np.diag(np.ones(6), k = 4)\n",
    "\n",
    "C = np.diag(np.ones(N-1), k = -1) + 0.5*np.diag(np.ones(N-2), k = -2) \\\n",
    "    + 0.5*np.diag(np.ones(N-3), k = -3) + 0.25*np.diag(np.ones(N-4), k = -4) \\\n",
    "    + 0.25*np.diag(np.ones(N-5), k = -5)\n",
    "\n",
    "# by controlling s_i we contorl number of iterations\n",
    "s1 = - 120*np.linspace(1, 10, N//5)\n",
    "s2 = - np.linspace(1, 10, N//5)\n",
    "s3 = 2*np.linspace(10, 1.5, N//5)\n",
    "s4 = 2*np.ones(N//5+8)\n",
    "s5 = 2*np.ones(N//5-8)\n",
    "\n",
    "B =  - np.diag(np.concatenate((s1, s2, s3, s4, s5)))\n",
    "\n",
    "f.set_coef(0, B)\n",
    "A3 = np.kron(np.eye(N//10,dtype=int),A)\n",
    "\n",
    "f.set_coef(3, A3)\n",
    "f.set_coef(1, -0.2*C)"
   ]
  },
  {
   "cell_type": "code",
   "execution_count": 6,
   "metadata": {},
   "outputs": [
    {
     "name": "stdout",
     "output_type": "stream",
     "text": [
      "[ -3.58461739  -3.90325364  -4.21848648  -4.47594233  -4.81134867\n",
      "  -4.77013752  -4.81671885  -5.24387463  -5.40739266  -7.19066035\n",
      "  -5.70038914  -5.82298004  -5.98293496  -6.11591348  -6.34777622\n",
      "  -6.21890184  -6.18631852  -6.56579258  -6.6715101   -8.65968796\n",
      "  -6.86052332  -6.94168181  -7.06355782  -7.16187168  -7.36644226\n",
      "  -7.19399665  -7.12437874  -7.49933701  -7.58076276  -9.74973383\n",
      "  -7.722056    -7.78304406  -7.88698969  -7.96789009  -8.16139994\n",
      "  -7.95839291  -7.86443837  -8.24463226  -8.31216922 -10.63861356\n",
      "  -1.507763    -1.32281671  -1.29683261  -1.18802555  -1.1990167\n",
      "  -1.06865335  -1.06162415  -1.13847468  -1.16581525  -1.53876433\n",
      "  -1.2298545   -1.24619364  -1.27914218  -1.30198386  -1.3494931\n",
      "  -1.31998419  -1.31106823  -1.38692617  -1.40822113  -1.82411311\n",
      "  -1.45396117  -1.46385457  -1.48952163  -1.50624273  -1.54858923\n",
      "  -1.51060117  -1.49466455  -1.5701485   -1.58664634  -2.03834976\n",
      "  -1.62227811  -1.62892895  -1.65105212  -1.6646815   -1.70490339\n",
      "  -1.66096859  -1.64036352  -1.71715849  -1.73093961  -2.21384068\n",
      "   2.09931546   2.12644461   2.12829382   2.13675168   2.15065703\n",
      "   2.09656879   2.04810538   2.09657997   2.08016712   2.57730676\n",
      "   2.04525533   2.02130754   2.00891844   1.98966256   1.99183353\n",
      "   1.92371707   1.87561778   1.91280759   1.89266471   2.33133558\n",
      "   1.85091079   1.82295237   1.80542951   1.78109153   1.77443859\n",
      "   1.70993463   1.6619235    1.68307226   1.6566835    2.0164501\n",
      "   1.60217282   1.56662609   1.53947559   1.50514247   1.48211178\n",
      "   1.42032421   1.36933692   1.36080813   1.31912688   1.54416281\n",
      "   1.11383242   1.09670935   1.09750082   1.09044839   1.1033227\n",
      "   1.06715564   1.04699068   1.082102     1.08252122   1.36403957\n",
      "   1.09125022   1.08231142   1.08757222   1.08491931   1.10013096\n",
      "   1.06631172   1.04650242   1.08182805   1.08238705   1.36398496\n",
      "   1.09122588   1.08229827   1.08756557   1.08491614   1.10012959\n",
      "   1.06631104   1.04650206   1.08182789   1.08238697   1.36398493\n",
      "   1.09122586   1.08229826   1.08756557   1.08491614   1.10012959\n",
      "   1.06631104   1.04650206   1.08182789   1.08238697   1.36398493\n",
      "   1.09122586   1.08229826   1.08756557   1.08491614   1.10012959\n",
      "   1.06631104   1.04650206   1.08182789   1.08238697   1.36398493\n",
      "   1.09122586   1.08229826   1.08756557   1.08491614   1.10012959\n",
      "   1.06631104   1.04650206   1.08182789   1.08238697   1.36398493\n",
      "   1.09122586   1.08229826   1.08756557   1.08491614   1.10012959\n",
      "   1.06631104   1.04650206   1.08182789   1.08238697   1.36398493\n",
      "   1.09122586   1.08229826   1.08756557   1.08491614   1.10012959\n",
      "   1.06631104   1.04650206   1.08182789   1.08238697   1.36398493]\n",
      "OK\n"
     ]
    }
   ],
   "source": [
    "x0 = np.ones(N)\n",
    "solver_cl= newton_solver(f, x0)\n",
    "X, code, message = solver_cl.solve()\n",
    "print(X)\n",
    "print(message)"
   ]
  },
  {
   "cell_type": "code",
   "execution_count": 7,
   "metadata": {},
   "outputs": [
    {
     "name": "stdout",
     "output_type": "stream",
     "text": [
      "[ -3.58461739  -3.90325364  -4.21848648  -4.47594233  -4.81134867\n",
      "  -4.77013752  -4.81671885  -5.24387463  -5.40739266  -7.19066035\n",
      "  -5.70038914  -5.82298004  -5.98293496  -6.11591348  -6.34777622\n",
      "  -6.21890184  -6.18631852  -6.56579258  -6.6715101   -8.65968796\n",
      "  -6.86052332  -6.94168181  -7.06355782  -7.16187168  -7.36644226\n",
      "  -7.19399665  -7.12437874  -7.49933701  -7.58076276  -9.74973383\n",
      "  -7.722056    -7.78304406  -7.88698969  -7.96789009  -8.16139994\n",
      "  -7.95839291  -7.86443837  -8.24463226  -8.31216922 -10.63861356\n",
      "  -1.50776483  -1.32281676  -1.29683263  -1.18802559  -1.19901671\n",
      "  -1.06865338  -1.06162416  -1.13847468  -1.16581525  -1.53876433\n",
      "  -1.22985449  -1.24619365  -1.27914218  -1.30198392  -1.34949298\n",
      "  -1.31998412  -1.31106838  -1.3869258   -1.40814166  -1.82411148\n",
      "  -1.45396054  -1.46385362  -1.48952129  -1.50624213  -1.54858919\n",
      "  -1.51060116  -1.49466453  -1.5701485   -1.58664633  -2.03834976\n",
      "  -1.62227811  -1.62892895  -1.65105212  -1.6646815   -1.70490339\n",
      "  -1.66096859  -1.64036352  -1.71715849  -1.73093961  -2.21384068\n",
      "   2.09931824   2.12644493   2.12829396   2.1367517    2.15065704\n",
      "   2.0965688    2.04810538   2.09657997   2.08016712   2.57730676\n",
      "   2.04525533   2.02130754   2.00891844   1.98966256   1.99183353\n",
      "   1.92371707   1.87561778   1.91280759   1.89266471   2.33133558\n",
      "   1.85091079   1.82295237   1.80542951   1.78109153   1.77443859\n",
      "   1.70993463   1.6619235    1.68307226   1.6566835    2.0164501\n",
      "   1.60217282   1.56662609   1.53947559   1.50514247   1.48211178\n",
      "   1.42032421   1.36933692   1.36080813   1.31912688   1.54416281\n",
      "   1.11383462   1.0967097    1.097501     1.09044847   1.10332273\n",
      "   1.06715568   1.04699069   1.082102     1.08252122   1.36403957\n",
      "   1.09125022   1.08231142   1.08757222   1.08491931   1.10013096\n",
      "   1.06631172   1.04650242   1.08182805   1.08238705   1.36398496\n",
      "   1.09122588   1.08229827   1.08756557   1.08491614   1.10012959\n",
      "   1.06631104   1.04650206   1.08182789   1.08238697   1.36398493\n",
      "   1.09122586   1.08229826   1.08756557   1.08491614   1.10012959\n",
      "   1.06631104   1.04650206   1.08182789   1.08238697   1.36398493\n",
      "   1.09122596   1.08229827   1.08756558   1.08491614   1.10012959\n",
      "   1.06631104   1.04650206   1.08182789   1.08238697   1.36398493\n",
      "   1.09122586   1.08229826   1.08756557   1.08491614   1.10012959\n",
      "   1.06631104   1.04650206   1.08182789   1.08238697   1.36398493\n",
      "   1.09122586   1.08229826   1.08756557   1.08491614   1.10012959\n",
      "   1.06631104   1.04650206   1.08182789   1.08238697   1.36398493\n",
      "   1.09122586   1.08229826   1.08756557   1.08491614   1.10012959\n",
      "   1.06631104   1.04650206   1.08182789   1.08238697   1.36398493]\n",
      "OK\n"
     ]
    }
   ],
   "source": [
    "Nd = 5\n",
    "x0 = np.ones(N)\n",
    "part = partion.partion_equally\n",
    "solver_as= aspen_solver(f, Nd, part,  x0)\n",
    "X, code, message = solver_as.solve()\n",
    "print(X)\n",
    "print(message)"
   ]
  },
  {
   "cell_type": "code",
   "execution_count": 8,
   "metadata": {},
   "outputs": [
    {
     "name": "stdout",
     "output_type": "stream",
     "text": [
      "---Newton iters vs Aspen iters---\n",
      "Newton:  30, Aspen : 2\n"
     ]
    }
   ],
   "source": [
    "print('---Newton iters vs Aspen iters---')\n",
    "print('Newton:  {}, Aspen : {}'.format(solver_cl.timelog.kn,\n",
    "                                       solver_as.timelog.aspen_iters))"
   ]
  },
  {
   "cell_type": "code",
   "execution_count": 9,
   "metadata": {},
   "outputs": [
    {
     "name": "stdout",
     "output_type": "stream",
     "text": [
      "---local+global time vs newton time---\n",
      "aspen = 0.6567673683166504, newton = 3.303178310394287\n"
     ]
    }
   ],
   "source": [
    "t1 = solver_as.timelog.gb_resbld+solver_as.timelog.gb_jacbld \\\n",
    "      +solver_as.timelog.gb_linsol+np.sum(solver_as.timelog.lc_resbld) \\\n",
    "      +np.sum(solver_as.timelog.lc_jacbld)+np.sum(solver_as.timelog.lc_linsol)\n",
    "t2 = solver_cl.timelog.resbld+solver_cl.timelog.jacbld \\\n",
    "      +solver_cl.timelog.linsol\n",
    "print('---local+global time vs newton time---')\n",
    "print('aspen = {}, newton = {}'.format(t1, t2))"
   ]
  },
  {
   "cell_type": "code",
   "execution_count": 10,
   "metadata": {},
   "outputs": [
    {
     "data": {
      "image/png": "[encoded data removed]",
      "text/plain": [
       "<Figure size 432x288 with 1 Axes>"
      ]
     },
     "metadata": {},
     "output_type": "display_data"
    }
   ],
   "source": [
    "plt.style.use('dark_background')\n",
    "plt.title('ASPEN')\n",
    "plt.xlabel('num of domain')\n",
    "plt.ylabel('iterations')\n",
    "plt.bar(np.arange(0, Nd, 1, dtype='int'), solver_as.timelog.domain_iters)\n",
    "plt.show()"
   ]
  },
  {
   "cell_type": "code",
   "execution_count": 11,
   "metadata": {},
   "outputs": [],
   "source": [
    "N = 200\n",
    "\n",
    "# let's build a problem form domains\n",
    "f = nonlinear_func(N, 4)\n",
    "\n",
    "A = np.eye(10)+0.5*np.diag(np.ones(9), k = 1) + 0.25*np.diag(np.ones(8), k = 2) \\\n",
    "    + 0.175*np.diag(np.ones(7), k = 3) + 0.0875*np.diag(np.ones(6), k = 4)\n",
    "\n",
    "C = np.diag(np.ones(N-1), k = -1) + 0.5*np.diag(np.ones(N-2), k = -2) \\\n",
    "    + 0.5*np.diag(np.ones(N-3), k = -3) + 0.25*np.diag(np.ones(N-4), k = -4) \\\n",
    "    + 0.25*np.diag(np.ones(N-5), k = -5)\n",
    "\n",
    "# by controlling s_i we contorl number of iterations\n",
    "s1 = 120*np.linspace(1, 10, N//5)\n",
    "s2 = 120*np.linspace(1, 10, N//5)\n",
    "s3 = 120*np.linspace(10, 1.5, N//5)\n",
    "s4 = 120*np.ones(N//5)\n",
    "s5 = 120*np.ones(N//5)\n",
    "\n",
    "B =  - np.diag(np.concatenate((s1, s2, s3, s4, s5)))\n",
    "\n",
    "f.set_coef(0, B)\n",
    "A3 = np.kron(np.eye(N//10,dtype=int),A)\n",
    "\n",
    "f.set_coef(3, A3)\n",
    "f.set_coef(1, -0.2*C)"
   ]
  },
  {
   "cell_type": "code",
   "execution_count": 12,
   "metadata": {},
   "outputs": [
    {
     "name": "stdout",
     "output_type": "stream",
     "text": [
      "[ 3.58461739  3.90325364  4.21848648  4.47594233  4.81134867  4.77013752\n",
      "  4.81671885  5.24387463  5.40739266  7.19066035  5.70038914  5.82298004\n",
      "  5.98293496  6.11591348  6.34777622  6.21890184  6.18631852  6.56579258\n",
      "  6.6715101   8.65968796  6.86052332  6.94168181  7.06355782  7.16187168\n",
      "  7.36644226  7.19399665  7.12437874  7.49933701  7.58076276  9.74973383\n",
      "  7.722056    7.78304406  7.88698969  7.96789009  8.16139994  7.95839291\n",
      "  7.86443837  8.24463226  8.31216922 10.63861356  3.66533121  3.94087691\n",
      "  4.24500433  4.48742958  4.81909678  4.77026423  4.81677325  5.24390137\n",
      "  5.40740159  7.19066296  5.70038925  5.82298008  5.98293497  6.11591348\n",
      "  6.34777622  6.21890184  6.18631852  6.56579258  6.6715101   8.65968796\n",
      "  6.86052332  6.94168181  7.06355782  7.16187168  7.36644226  7.19399665\n",
      "  7.12437874  7.49933701  7.58076276  9.74973383  7.722056    7.78304406\n",
      "  7.88698969  7.96789009  8.16139994  7.95839291  7.86443837  8.24463226\n",
      "  8.31216922 10.63861356  8.47950987  8.40889587  8.36764393  8.31034929\n",
      "  8.33559122  8.06349934  7.87447723  8.05980256  7.99214692  9.89431091\n",
      "  7.82946216  7.7493077   7.69399619  7.62415033  7.62501683  7.36742464\n",
      "  7.18183247  7.32252879  7.24029706  8.90738368  7.04771637  6.95226951\n",
      "  6.87521337  6.78509279  6.74917882  6.50664692  6.32095263  6.39600541\n",
      "  6.28753523  7.63306494  6.03788846  5.91215789  5.79332745  5.66191066\n",
      "  5.55565424  5.32481118  5.12497819  5.0736599   4.89796799  5.67268641\n",
      "  3.93569054  3.92497315  3.93570681  3.93645085  3.98645982  3.86974683\n",
      "  3.80046009  3.93572618  3.93592715  4.95904701  3.92831029  3.92061105\n",
      "  3.93279586  3.93500929  3.98569474  3.86972731  3.80045     3.935721\n",
      "  3.93592514  4.95904645  3.92831025  3.92061104  3.93279586  3.93500928\n",
      "  3.98569474  3.86972731  3.80045     3.935721    3.93592514  4.95904645\n",
      "  3.92831025  3.92061104  3.93279586  3.93500928  3.98569474  3.86972731\n",
      "  3.80045     3.935721    3.93592514  4.95904645  3.92831025  3.92061104\n",
      "  3.93279586  3.93500928  3.98569474  3.86972731  3.80045     3.935721\n",
      "  3.93592514  4.95904645  3.92831025  3.92061104  3.93279586  3.93500928\n",
      "  3.98569474  3.86972731  3.80045     3.935721    3.93592514  4.95904645\n",
      "  3.92831025  3.92061104  3.93279586  3.93500928  3.98569474  3.86972731\n",
      "  3.80045     3.935721    3.93592514  4.95904645  3.92831025  3.92061104\n",
      "  3.93279586  3.93500928  3.98569474  3.86972731  3.80045     3.935721\n",
      "  3.93592514  4.95904645]\n",
      "OK\n"
     ]
    }
   ],
   "source": [
    "x0 = np.ones(N)\n",
    "solver_cl= newton_solver(f, x0)\n",
    "X, code, message = solver_cl.solve()\n",
    "print(X)\n",
    "print(message)"
   ]
  },
  {
   "cell_type": "code",
   "execution_count": 13,
   "metadata": {},
   "outputs": [
    {
     "name": "stdout",
     "output_type": "stream",
     "text": [
      "[ 3.58461739  3.90325364  4.21848648  4.47594233  4.81134867  4.77013752\n",
      "  4.81671885  5.24387463  5.40739266  7.19066035  5.70038914  5.82298004\n",
      "  5.98293496  6.11591348  6.34777622  6.21890184  6.18631852  6.56579258\n",
      "  6.6715101   8.65968796  6.86052332  6.94168181  7.06355782  7.16187168\n",
      "  7.36644226  7.19399665  7.12437874  7.49933701  7.58076276  9.74973383\n",
      "  7.722056    7.78304406  7.88698969  7.96789009  8.16139994  7.95839291\n",
      "  7.86443837  8.24463226  8.31216922 10.63861356  3.66533178  3.94087693\n",
      "  4.24500433  4.48742958  4.81909678  4.77026423  4.81677325  5.24390137\n",
      "  5.40740159  7.19066296  5.70038925  5.82298008  5.98293497  6.11591348\n",
      "  6.34777622  6.21890184  6.18631852  6.56579258  6.6715101   8.65968796\n",
      "  6.86052332  6.94168181  7.06355782  7.16187168  7.36644226  7.19399665\n",
      "  7.12437874  7.49933701  7.58076276  9.74973383  7.722056    7.78304406\n",
      "  7.88698969  7.96789009  8.16139994  7.95839291  7.86443837  8.24463226\n",
      "  8.31216922 10.63861356  8.47950987  8.40889587  8.36764393  8.31034929\n",
      "  8.33559122  8.06349934  7.87447723  8.05980256  7.99214692  9.89431091\n",
      "  7.82946216  7.7493077   7.69399619  7.62415033  7.62501683  7.36742464\n",
      "  7.18183247  7.32252879  7.24029706  8.90738368  7.04771637  6.95226951\n",
      "  6.87521337  6.78509279  6.74917882  6.50664692  6.32095263  6.39600541\n",
      "  6.28753523  7.63306494  6.03788846  5.91215789  5.79332745  5.66191066\n",
      "  5.55565424  5.32481118  5.12497819  5.0736599   4.89796799  5.67268641\n",
      "  3.93569055  3.92497315  3.93570681  3.93645085  3.98645982  3.86974683\n",
      "  3.80046009  3.93572618  3.93592715  4.95904701  3.92831029  3.92061105\n",
      "  3.93279586  3.93500929  3.98569474  3.86972731  3.80045     3.935721\n",
      "  3.93592514  4.95904645  3.92831025  3.92061104  3.93279586  3.93500928\n",
      "  3.98569474  3.86972731  3.80045     3.935721    3.93592514  4.95904645\n",
      "  3.92831025  3.92061104  3.93279586  3.93500928  3.98569474  3.86972731\n",
      "  3.80045     3.935721    3.93592514  4.95904645  3.92831025  3.92061104\n",
      "  3.93279586  3.93500928  3.98569474  3.86972731  3.80045     3.935721\n",
      "  3.93592514  4.95904645  3.92831025  3.92061104  3.93279586  3.93500928\n",
      "  3.98569474  3.86972731  3.80045     3.935721    3.93592514  4.95904645\n",
      "  3.92831025  3.92061104  3.93279586  3.93500928  3.98569474  3.86972731\n",
      "  3.80045     3.935721    3.93592514  4.95904645  3.92831025  3.92061104\n",
      "  3.93279586  3.93500928  3.98569474  3.86972731  3.80045     3.935721\n",
      "  3.93592514  4.95904645]\n",
      "OK\n"
     ]
    }
   ],
   "source": [
    "Nd = 5\n",
    "x0 = np.ones(N)\n",
    "part = partion.partion_equally\n",
    "solver_as= aspen_solver(f, Nd, part,  x0)\n",
    "X, code, message = solver_as.solve()\n",
    "print(X)\n",
    "print(message)"
   ]
  },
  {
   "cell_type": "code",
   "execution_count": 14,
   "metadata": {},
   "outputs": [
    {
     "name": "stdout",
     "output_type": "stream",
     "text": [
      "---Newton iters vs Aspen iters---\n",
      "Newton:  14, Aspen : 2\n",
      "---local+global time vs newton time---\n",
      "aspen = 0.591388463973999, newton = 1.3536579608917236\n"
     ]
    },
    {
     "data": {
      "image/png": "[encoded data removed]",
      "text/plain": [
       "<Figure size 432x288 with 1 Axes>"
      ]
     },
     "metadata": {},
     "output_type": "display_data"
    }
   ],
   "source": [
    "print('---Newton iters vs Aspen iters---')\n",
    "print('Newton:  {}, Aspen : {}'.format(solver_cl.timelog.kn,\n",
    "                                       solver_as.timelog.aspen_iters))\n",
    "\n",
    "t1 = solver_as.timelog.gb_resbld+solver_as.timelog.gb_jacbld \\\n",
    "      +solver_as.timelog.gb_linsol+np.sum(solver_as.timelog.lc_resbld) \\\n",
    "      +np.sum(solver_as.timelog.lc_jacbld)+np.sum(solver_as.timelog.lc_linsol)\n",
    "t2 = solver_cl.timelog.resbld+solver_cl.timelog.jacbld \\\n",
    "      +solver_cl.timelog.linsol\n",
    "print('---local+global time vs newton time---')\n",
    "print('aspen = {}, newton = {}'.format(t1, t2))\n",
    "\n",
    "plt.style.use('dark_background')\n",
    "plt.title('ASPEN')\n",
    "plt.xlabel('num of domain')\n",
    "plt.ylabel('iterations')\n",
    "plt.bar(np.arange(0, Nd, 1, dtype='int'), solver_as.timelog.domain_iters)\n",
    "plt.show()"
   ]
  },
  {
   "cell_type": "markdown",
   "metadata": {},
   "source": []
  },
  {
   "cell_type": "code",
   "execution_count": null,
   "metadata": {},
   "outputs": [],
   "source": []
  }
 ],
 "metadata": {
  "kernelspec": {
   "display_name": "Python 3",
   "language": "python",
   "name": "python3"
  },
  "language_info": {
   "codemirror_mode": {
    "name": "ipython",
    "version": 3
   },
   "file_extension": ".py",
   "mimetype": "text/x-python",
   "name": "python",
   "nbconvert_exporter": "python",
   "pygments_lexer": "ipython3",
   "version": "3.8.5"
  }
 },
 "nbformat": 4,
 "nbformat_minor": 4
}
