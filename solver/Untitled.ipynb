{
 "cells": [
  {
   "cell_type": "code",
   "execution_count": 1,
   "metadata": {},
   "outputs": [],
   "source": [
    "from solver import classic_solver\n",
    "from aspen import aspen_solver\n",
    "import partion\n",
    "import numpy as np\n",
    "import matplotlib.pyplot as plt"
   ]
  },
  {
   "cell_type": "code",
   "execution_count": 2,
   "metadata": {},
   "outputs": [],
   "source": [
    "def model(u):\n",
    "    return np.array([u**2+1, 2*max(u, 0)])\n",
    "\n",
    "class Diffusion():\n",
    "    def __init__(self, Nx, Amp=0, Period=0, Scale=1, model=None):\n",
    "        self.val = np.zeros((Nx+1, 1))\n",
    "        for i in range(Nx+1):\n",
    "            self.val[i] = (\n",
    "                Amp * np.sin(Period * 2*np.pi * (i+1) / (Nx+1)) + 1) * Scale\n",
    "        self.model = model"
   ]
  },
  {
   "cell_type": "code",
   "execution_count": 5,
   "metadata": {},
   "outputs": [
    {
     "name": "stdout",
     "output_type": "stream",
     "text": [
      "[[1.00628302 0.18395257 0.04505367 ... 0.00355945 0.00353643 0.        ]\n",
      " [1.01256505 0.23234982 0.08305534 ... 0.00709884 0.00705293 0.        ]\n",
      " [1.01884509 0.27800452 0.12037093 ... 0.01061826 0.01054959 0.        ]\n",
      " ...\n",
      " [0.98743495 0.22110543 0.06388466 ... 0.00376111 0.00373784 0.        ]\n",
      " [0.99371698 0.1942747  0.04480876 ... 0.00250031 0.00248484 0.        ]\n",
      " [1.         0.16598435 0.02555196 ... 0.00124662 0.00123891 0.        ]]\n"
     ]
    }
   ],
   "source": [
    "Nx = 1000\n",
    "Nt = 100\n",
    "param = {\n",
    "    'Nx': Nx, \n",
    "    'Nt': Nt,\n",
    "}\n",
    "D = Diffusion(Nx, 0.9, 1, 0.5e-1, model=model)\n",
    "solver = classic_solver(param, D)\n",
    "solver.setBoundary(0, 0)\n",
    "solver.setInitial(0.5, 2, 1)\n",
    "solver.setSources([0.6], [0])\n",
    "\n",
    "X_cl, code, message = solver.solve()\n",
    "t_cl = solver.t\n",
    "print(X_cl)"
   ]
  },
  {
   "cell_type": "code",
   "execution_count": 3,
   "metadata": {},
   "outputs": [
    {
     "name": "stdout",
     "output_type": "stream",
     "text": [
      "[[1.00628302 0.05997455 0.03562684 ... 0.00353995 0.00351715 0.        ]\n",
      " [1.01256505 0.11716756 0.07087443 ... 0.00705994 0.00701448 0.        ]\n",
      " [1.01884509 0.17146593 0.1056236  ... 0.01056008 0.01049208 0.        ]\n",
      " ...\n",
      " [0.98743495 0.11050878 0.05035725 ... 0.00375479 0.00373153 0.        ]\n",
      " [0.99371698 0.07553717 0.03356748 ... 0.00249611 0.00248064 0.        ]\n",
      " [1.         0.03870271 0.01676527 ... 0.00124453 0.00123682 0.        ]]\n"
     ]
    }
   ],
   "source": [
    "Nx = 1000\n",
    "Nt = 100\n",
    "Nd = 6\n",
    "param = {\n",
    "    'Nx': Nx, \n",
    "    'Nt': Nt,\n",
    "    'Nd': Nd\n",
    "}\n",
    "D = Diffusion(Nx, 0.9, 1, 0.5e-1, model=model)\n",
    "\n",
    "part = partion.partion_equally\n",
    "solver = aspen_solver(param, D, part)\n",
    "solver.setBoundary(0, 0)\n",
    "solver.setInitial(0.5, 2, 1)\n",
    "solver.setSources([0.6], [0])\n",
    "\n",
    "X, code, message = solver.solve()\n",
    "t = solver.t\n",
    "print(X)"
   ]
  },
  {
   "cell_type": "code",
   "execution_count": 6,
   "metadata": {},
   "outputs": [
    {
     "data": {
      "image/png": "[encoded data removed]",
      "text/plain": [
       "<Figure size 432x288 with 1 Axes>"
      ]
     },
     "metadata": {
      "needs_background": "light"
     },
     "output_type": "display_data"
    },
    {
     "data": {
      "image/png": "[encoded data removed]",
      "text/plain": [
       "<Figure size 432x288 with 1 Axes>"
      ]
     },
     "metadata": {
      "needs_background": "light"
     },
     "output_type": "display_data"
    },
    {
     "name": "stdout",
     "output_type": "stream",
     "text": [
      "OK\n"
     ]
    }
   ],
   "source": [
    "step = \n",
    "plt.plot(X_cl[:, step], color = 'r')\n",
    "plt.show()\n",
    "plt.plot(X[:, step])\n",
    "plt.show()\n",
    "print(message)"
   ]
  },
  {
   "cell_type": "code",
   "execution_count": 34,
   "metadata": {},
   "outputs": [
    {
     "name": "stdout",
     "output_type": "stream",
     "text": [
      "[0.   0.01 0.02 0.03 0.04 0.05 0.06 0.07 0.08 0.09 0.1  0.11 0.12 0.13\n",
      " 0.14 0.15 0.16 0.17 0.18 0.19 0.2  0.21 0.22 0.23 0.24 0.25 0.26 0.27\n",
      " 0.28 0.29 0.3  0.31 0.32 0.33 0.34 0.35 0.36 0.37 0.38 0.39 0.4  0.41\n",
      " 0.42 0.43 0.44 0.45 0.46 0.47 0.48 0.49 0.5  0.51 0.52 0.53 0.54 0.55\n",
      " 0.56 0.57 0.58 0.59 0.6  0.61 0.62 0.63 0.64 0.65 0.66 0.67 0.68 0.69\n",
      " 0.7  0.71 0.72 0.73 0.74 0.75 0.76 0.77 0.78 0.79 0.8  0.81 0.82 0.83\n",
      " 0.84 0.85 0.86 0.87 0.88 0.89 0.9  0.91 0.92 0.93 0.94 0.95 0.96 0.97\n",
      " 0.98 0.99 0.  ]\n"
     ]
    }
   ],
   "source": [
    "print(t)"
   ]
  },
  {
   "cell_type": "code",
   "execution_count": null,
   "metadata": {},
   "outputs": [],
   "source": []
  }
 ],
 "metadata": {
  "kernelspec": {
   "display_name": "Py3 study",
   "language": "python",
   "name": "py3_study"
  },
  "language_info": {
   "codemirror_mode": {
    "name": "ipython",
    "version": 3
   },
   "file_extension": ".py",
   "mimetype": "text/x-python",
   "name": "python",
   "nbconvert_exporter": "python",
   "pygments_lexer": "ipython3",
   "version": "3.7.9"
  }
 },
 "nbformat": 4,
 "nbformat_minor": 4
}
