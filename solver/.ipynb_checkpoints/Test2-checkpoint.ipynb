{
 "cells": [
  {
   "cell_type": "code",
   "execution_count": 1,
   "metadata": {},
   "outputs": [],
   "source": [
    "from solver import classic_solver\n",
    "from aspen import aspen_solver\n",
    "import partion\n",
    "import numpy as np\n",
    "import matplotlib.pyplot as plt\n",
    "\n",
    "%load_ext autoreload\n",
    "%autoreload 2"
   ]
  },
  {
   "cell_type": "code",
   "execution_count": 2,
   "metadata": {},
   "outputs": [],
   "source": [
    "def model(u):\n",
    "    return np.array([u**2+1, 2*max(u, 0)])\n",
    "\n",
    "class Diffusion():\n",
    "    def __init__(self, Nx, Amp=0, Period=0, Scale=1, model=None):\n",
    "        self.val = np.zeros((Nx+1, 1))\n",
    "        for i in range(Nx+1):\n",
    "            self.val[i] = (\n",
    "                Amp * np.sin(Period * 2*np.pi * (i+1) / (Nx+1)) + 1) * Scale\n",
    "        self.model = model"
   ]
  },
  {
   "cell_type": "code",
   "execution_count": null,
   "metadata": {},
   "outputs": [],
   "source": []
  }
 ],
 "metadata": {
  "kernelspec": {
   "display_name": "Python 3",
   "language": "python",
   "name": "python3"
  },
  "language_info": {
   "codemirror_mode": {
    "name": "ipython",
    "version": 3
   },
   "file_extension": ".py",
   "mimetype": "text/x-python",
   "name": "python",
   "nbconvert_exporter": "python",
   "pygments_lexer": "ipython3",
   "version": "3.8.5"
  }
 },
 "nbformat": 4,
 "nbformat_minor": 4
}
