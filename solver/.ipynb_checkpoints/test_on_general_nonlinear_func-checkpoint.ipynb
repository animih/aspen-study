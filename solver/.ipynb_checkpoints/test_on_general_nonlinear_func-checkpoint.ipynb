{
 "cells": [
  {
   "cell_type": "code",
   "execution_count": 54,
   "metadata": {},
   "outputs": [
    {
     "name": "stdout",
     "output_type": "stream",
     "text": [
      "The autoreload extension is already loaded. To reload it, use:\n",
      "  %reload_ext autoreload\n"
     ]
    }
   ],
   "source": [
    "import partion\n",
    "import numpy as np\n",
    "import matplotlib.pyplot as plt\n",
    "import time\n",
    "\n",
    "%load_ext autoreload\n",
    "%autoreload 2"
   ]
  },
  {
   "cell_type": "code",
   "execution_count": 55,
   "metadata": {},
   "outputs": [],
   "source": [
    "# some polynomial func\n",
    "class nonlinear_func():\n",
    "    def __init__(self, N_dim, N_deg):\n",
    "        self.A = np.zeros((N_dim, N_dim, N_deg))\n",
    "        self.N_dim = N_dim\n",
    "        self.N_deg = N_deg\n",
    "    def set_coef(self, deg, A):\n",
    "        self.A[:, : , deg] = A\n",
    "    def get(self, u):\n",
    "        ret = np.zeros(self.deg)\n",
    "        for k in range(0, N_deg, 1):\n",
    "            ret += self.A[:, :, k] @ u**k        \n",
    "        return ret\n",
    "    def get_jac(self, u):\n",
    "        ret = np.zeros((self.N_deg, self.N_eg))\n",
    "        for k in range(1, self.N_deg, 1):\n",
    "            ret += self.A[:, :, k] @ np.diag(-k*np.sin(k*u))\n",
    "        return ret\n",
    "    def get_lc(self, u, start, end):\n",
    "        ret = np.zeros(end-start)\n",
    "        for k in range(0, self.N_harm, 1):\n",
    "            ret += self.A[start:end, :, k*2] @ np.cos(k*u)       \n",
    "        for k in range(1, self.N_harm, 1):\n",
    "            ret += self.A[start:end, :, k*2-1] @ np.cos(k*u) \n",
    "        return ret\n",
    "    \n",
    "    def get_jac_lc(self, u, u_start, u_end, f_start=None, f_end=None):\n",
    "        if(f_start == None or f_end == None):\n",
    "            f_start, f_end = u_start, u_end\n",
    "            \n",
    "        ret = np.zeros((f_end-f_start, u_end-u_start))\n",
    "        for k in range(0, self.N_harm, 1):\n",
    "            ret += self.A[f_start:f_end, u_start:u_end, k*2] \\\n",
    "                @ np.diag(-k*np.sin(k*u[u_start:u_end]))\n",
    "        for k in range(1, self.N_harm, 1):\n",
    "            ret += self.A[f_start:f_end, u_start:u_end, k*2-1] \\\n",
    "                @ np.diag(k*np.cos(k*u[u_start:u_end]))\n",
    "        return ret\n",
    "    \n",
    "    def get_jac_gb(self, u_loc, u_prev, s):\n",
    "        start = s[0]\n",
    "        end = s[1]\n",
    "        \n",
    "        J, D = np.zeros((self.N_dim, self.N_dim)), np.zeros((self.N_dim, self.N_dim))\n",
    "\n",
    "        for i in range(s.shape[0]-1):\n",
    "            start = s[i]\n",
    "            end = s[i+1]\n",
    "            \n",
    "            J1 = self.get_jac_lc(u_loc, start, end)\n",
    "            J[start:end, start:end] += J1\n",
    "            D[start:end, start:end] += J1\n",
    "            \n",
    "            J[start:end, end:] = self.get_jac_lc(u_prev, end, self.N_dim, start, end)\n",
    "            J[end:, start:end] = self.get_jac_lc(u_prev, start, end, end, self.N_dim)\n",
    "            \n",
    "        return J, D"
   ]
  },
  {
   "cell_type": "code",
   "execution_count": 40,
   "metadata": {},
   "outputs": [],
   "source": [
    "class newton_solver():\n",
    "    class TimeLog():\n",
    "        def __init__(self, linsol=0, resbld=0, jacbld=0):\n",
    "            self.linsol = linsol\n",
    "            self.resbld = resbld\n",
    "            self.jacbld = jacbld\n",
    "            self.kn = 0\n",
    "    def __init__(self, func, x0):\n",
    "        self.func = func\n",
    "        self.sol = np.zeros(func.N_dim)\n",
    "        self.timelog = self.TimeLog()\n",
    "        self.sol = x0\n",
    "    def solve(self, err = 1e-3):\n",
    "        return_code = 0\n",
    "        return_message = 'OK'\n",
    "        \n",
    "        # Newton iteration parameters\n",
    "        kmax = 45\n",
    "        \n",
    "        for k in range(kmax):\n",
    "            # residual\n",
    "            t_res = -time.time()\n",
    "            R = self.func.get(self.sol)\n",
    "            t_res += time.time()\n",
    "            self.timelog.resbld += t_res\n",
    "            is_converged = np.linalg.norm(R) <= err\n",
    "                \n",
    "            if is_converged:\n",
    "                self.timelog.kn = k\n",
    "                break\n",
    "            elif (k+1 == kmax):\n",
    "                return_message = 'Not converged'\n",
    "                break\n",
    "            \n",
    "            #Jacobian\n",
    "            t_jac = -time.time()\n",
    "            J = self.func.get_jac(self.sol)\n",
    "            t_jac += time.time()\n",
    "            self.timelog.jacbld += t_jac\n",
    "            \n",
    "            # lin solve\n",
    "            t_lin = -time.time()\n",
    "            dX = np.linalg.solve(J, -R)\n",
    "            t_lin += time.time()\n",
    "            self.timelog.linsol += t_lin\n",
    "            \n",
    "            # update\n",
    "            \n",
    "            self.sol += dX\n",
    "            \n",
    "        return self.sol, return_code, return_message"
   ]
  },
  {
   "cell_type": "code",
   "execution_count": 194,
   "metadata": {},
   "outputs": [],
   "source": [
    "class aspen_solver():\n",
    "    class TimeLog():\n",
    "        def __init__(self, Nd = 0):\n",
    "            self.domain_iters = np.zeros(Nd)\n",
    "            self.aspen_iters = 0\n",
    "            \n",
    "            self.gb_resbld = 0\n",
    "\n",
    "            self.lc_resbld = np.zeros(Nd)\n",
    "            self.lc_jacbld = np.zeros(Nd)\n",
    "            self.lc_linsol = np.zeros(Nd)\n",
    "\n",
    "            self.gb_jacbld = 0\n",
    "            self.gb_linsol = 0\n",
    "    def __init__(self, func, Nd, part_func, x0):\n",
    "        self.func = func\n",
    "        self.timelog = self.TimeLog(Nd = Nd)\n",
    "        self.partion = part_func\n",
    "        self.Nd = Nd\n",
    "        self.sol = x0\n",
    "    def solve(self, err = 1e-3):\n",
    "        return_code = 0\n",
    "        return_message = 'OK'\n",
    "        \n",
    "        # aspen iteration parameters\n",
    "        aspen_iters = 25\n",
    "        \n",
    "        # partion strategy\n",
    "        domain_borders = self.partion(self.func.N_dim, self.Nd)\n",
    "        \n",
    "        for j in range(aspen_iters):\n",
    "            # residual\n",
    "            t_res = -time.time()\n",
    "            R = self.func.get(self.sol)\n",
    "            t_res += time.time()\n",
    "            self.timelog.gb_resbld += t_res\n",
    "            is_converged = np.linalg.norm(R) <= err\n",
    "                \n",
    "            if is_converged:\n",
    "                self.timelog.aspen_iters = j\n",
    "                break\n",
    "            elif (j+1 == aspen_iters):\n",
    "                return_message = 'Not converged'\n",
    "                break\n",
    "                \n",
    "            x_local = np.copy(self.sol)\n",
    "            x_local_tmp = np.copy(self.sol)\n",
    "                                  \n",
    "            # Newton iterations param\n",
    "            kmax_lc = 35 \n",
    "            \n",
    "            for i in range(self.Nd):\n",
    "                start = domain_borders[i]\n",
    "                end = domain_borders[i+1]\n",
    "                N = end-start           \n",
    "                \n",
    "                for k in range(kmax_lc):\n",
    "                    # domain res\n",
    "                    t_res = -time.time()\n",
    "                    R = self.func.get_lc(x_local_tmp, start, end)\n",
    "                    t_res += time.time()\n",
    "                    self.timelog.lc_resbld[i] += t_res\n",
    "                    is_converged = np.linalg.norm(R) <= err\n",
    "\n",
    "                    if is_converged:\n",
    "                        self.timelog.domain_iters[i] += k\n",
    "                        x_local[start:end] = x_local_tmp[start:end]\n",
    "                        x_local_tmp[start:end] = self.sol[start:end]\n",
    "                        break\n",
    "                    elif (k+1 == kmax_lc):\n",
    "                        return_message = 'Not converged'\n",
    "                        break\n",
    "            \n",
    "                    #Jacobian\n",
    "                    t_jac = -time.time()\n",
    "                    J = self.func.get_jac_lc(x_local_tmp, start, end)\n",
    "                    t_jac += time.time()\n",
    "                    self.timelog.lc_jacbld[i] += t_jac\n",
    "            \n",
    "                    # lin solve\n",
    "                    t_lin = -time.time()\n",
    "                    dX = np.linalg.solve(J, -R)\n",
    "                    t_lin += time.time()\n",
    "                    self.timelog.lc_linsol[i] += t_lin\n",
    "                    \n",
    "                    # upd\n",
    "                    x_local_tmp[start:end] += dX\n",
    "                    \n",
    "                # Global stage\n",
    "                F = self.sol - x_local\n",
    "                # global jacobain\n",
    "                t_jac = -time.time()\n",
    "                J, D = self.func.get_jac_gb(x_local, self.sol, domain_borders)\n",
    "                t_jac += time.time()\n",
    "                self.timelog.gb_jacbld += t_jac\n",
    "                \n",
    "                # lin solve\n",
    "                t_lin = -time.time()\n",
    "                dX = np.linalg.solve(-J, D@F)\n",
    "                t_lin += time.time()\n",
    "                self.timelog.gb_linsol += t_lin\n",
    "                # update\n",
    "                self.sol += dX\n",
    "            \n",
    "        return self.sol, return_code, return_message"
   ]
  },
  {
   "cell_type": "code",
   "execution_count": 328,
   "metadata": {},
   "outputs": [],
   "source": [
    "func = nonlinear_func(50, 2)\n",
    "\n",
    "cos1 = 0.5*np.eye(50) \\\n",
    "    - 0.12*np.diag(np.ones(49), k = 1) - 0.12*np.diag(np.ones(49), k = -1)\n",
    "\n",
    "sin1 = - 0.15*np.diag(np.ones(10), k = 50-10) - 0.15*np.diag(np.ones(10), k = 50-10)\n",
    "\n",
    "B = 0.005*np.diag(np.arange(-50, 50, 2) )\n",
    "\n",
    "func.set_coef(0, B)\n",
    "func.set_coef(1, cos1, is_cos=True)\n",
    "func.set_coef(1, sin1, is_cos=False)"
   ]
  },
  {
   "cell_type": "code",
   "execution_count": 329,
   "metadata": {},
   "outputs": [
    {
     "name": "stdout",
     "output_type": "stream",
     "text": [
      "[-1.37055596 -1.38136848 -1.44651201 -1.52466383 -1.60535668 -1.6848754\n",
      " -1.75783358 -1.8083389  -1.79190929 -1.61164662  1.149281    1.0523127\n",
      "  1.05981735  1.09422653  1.13474915  1.17620383  1.21737791  1.2580422\n",
      "  1.29820529  1.33792895  1.37728334  1.41633678  1.45515415  1.49379719\n",
      "  1.5323253   1.57079633  1.60926735  1.64779547  1.68643852  1.72525593\n",
      "  1.76430952  1.80366451  1.84339055  1.88356305  1.92426471  1.96558745\n",
      "  2.00763477  2.05052494  2.09439502  2.13940628  2.18575152  2.23366445\n",
      "  2.28342974  2.3353833   2.38985094  2.44678977  2.5040863   2.55004803\n",
      "  2.53527544  2.31477478]\n",
      "OK\n"
     ]
    }
   ],
   "source": [
    "x0 = np.ones(50)\n",
    "solver_cl= newton_solver(func, x0)\n",
    "X, code, message = solver_cl.solve()\n",
    "print(X)\n",
    "print(message)"
   ]
  },
  {
   "cell_type": "code",
   "execution_count": 330,
   "metadata": {},
   "outputs": [
    {
     "name": "stdout",
     "output_type": "stream",
     "text": [
      "[  1.36959413   1.38096595   1.44636407  23.60812722 -51.87082003\n",
      " -17.16469309 -10.80855343 -10.75807019 -23.3409609    4.67207834\n",
      "   1.14722859   1.05175162   1.05967336   1.09419023   1.13473971\n",
      "   1.17620016   1.21737197   1.25802136   1.29812528   1.3376194\n",
      "   1.37700377   1.41626574   1.45513599   1.4937922    1.53232262\n",
      "   1.57079016   1.60924431   1.64770542   1.68608509   1.72386573\n",
      "   1.76284848   1.80328795   1.84329327   1.88353779   1.92425783\n",
      "   1.96558433   2.00762869   2.05050231   2.09430478   2.13904373\n",
      "   2.18429451   2.23330445   2.28333596   2.33535833   2.3898442\n",
      "   2.44678794   2.5040858    2.55004789   2.53527541   2.31477477]\n",
      "Not converged\n"
     ]
    }
   ],
   "source": [
    "x0 = np.ones(50)\n",
    "part = partion.partion_equally\n",
    "solver_as= aspen_solver(func, 5, part,  x0)\n",
    "X, code, message = solver_as.solve()\n",
    "print(X)\n",
    "print(message)"
   ]
  },
  {
   "cell_type": "code",
   "execution_count": 303,
   "metadata": {},
   "outputs": [
    {
     "name": "stdout",
     "output_type": "stream",
     "text": [
      "---Newton iters vs Aspen iters---\n",
      "Newton:  3, Aspen : 4\n"
     ]
    }
   ],
   "source": [
    "print('---Newton iters vs Aspen iters---')\n",
    "print('Newton:  {}, Aspen : {}'.format(solver_cl.timelog.kn,\n",
    "                                       solver_as.timelog.aspen_iters))"
   ]
  },
  {
   "cell_type": "code",
   "execution_count": 304,
   "metadata": {},
   "outputs": [
    {
     "name": "stdout",
     "output_type": "stream",
     "text": [
      "---local+global time vs newton time---\n",
      "aspen = 0.049544334411621094, newton = 0.005475282669067383\n"
     ]
    }
   ],
   "source": [
    "t1 = solver_as.timelog.gb_resbld+solver_as.timelog.gb_jacbld \\\n",
    "      +solver_as.timelog.gb_linsol+np.sum(solver_as.timelog.lc_resbld) \\\n",
    "      +np.sum(solver_as.timelog.lc_jacbld)+np.sum(solver_as.timelog.lc_linsol)\n",
    "t2 = solver_cl.timelog.resbld+solver_cl.timelog.jacbld \\\n",
    "      +solver_cl.timelog.linsol\n",
    "print('---local+global time vs newton time---')\n",
    "print('aspen = {}, newton = {}'.format(t1, t2))"
   ]
  },
  {
   "cell_type": "code",
   "execution_count": 305,
   "metadata": {},
   "outputs": [
    {
     "data": {
      "image/png": "[encoded data removed]",
      "text/plain": [
       "<Figure size 432x288 with 1 Axes>"
      ]
     },
     "metadata": {},
     "output_type": "display_data"
    }
   ],
   "source": [
    "plt.style.use('dark_background')\n",
    "plt.title('ASPEN')\n",
    "plt.xlabel('num of domain')\n",
    "plt.ylabel('iterations')\n",
    "plt.bar(np.arange(0, 5, 1, dtype='int'), solver_as.timelog.domain_iters)\n",
    "plt.show()"
   ]
  },
  {
   "cell_type": "code",
   "execution_count": null,
   "metadata": {},
   "outputs": [],
   "source": []
  }
 ],
 "metadata": {
  "kernelspec": {
   "display_name": "Python 3",
   "language": "python",
   "name": "python3"
  },
  "language_info": {
   "codemirror_mode": {
    "name": "ipython",
    "version": 3
   },
   "file_extension": ".py",
   "mimetype": "text/x-python",
   "name": "python",
   "nbconvert_exporter": "python",
   "pygments_lexer": "ipython3",
   "version": "3.8.5"
  }
 },
 "nbformat": 4,
 "nbformat_minor": 4
}
