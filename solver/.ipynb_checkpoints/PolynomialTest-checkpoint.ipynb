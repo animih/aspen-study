{
 "cells": [
  {
   "cell_type": "code",
   "execution_count": 2,
   "metadata": {},
   "outputs": [],
   "source": [
    "import partion\n",
    "import numpy as np\n",
    "import matplotlib.pyplot as plt\n",
    "import time\n",
    "\n",
    "%load_ext autoreload\n",
    "%autoreload 2"
   ]
  },
  {
   "cell_type": "code",
   "execution_count": 3,
   "metadata": {},
   "outputs": [],
   "source": [
    "# some polynomial func\n",
    "class nonlinear_func():\n",
    "    def __init__(self, N_dim, N_deg):\n",
    "        self.A = np.zeros((N_dim, N_dim, N_deg))\n",
    "        self.N_dim = N_dim\n",
    "        self.N_deg = N_deg\n",
    "    def set_coef(self, deg, A):\n",
    "        self.A[:, : , deg] = A\n",
    "    def get(self, u):\n",
    "        ret = np.zeros(self.N_dim)\n",
    "        for k in range(0, self.N_deg, 1):\n",
    "            ret += self.A[:, :, k] @ u**k        \n",
    "        return ret\n",
    "    def get_jac(self, u):\n",
    "        ret = np.zeros((self.N_dim, self.N_dim))\n",
    "        for k in range(1, self.N_deg, 1):\n",
    "            ret += self.A[:, :, k] @ np.diag(k * u**(k-1))\n",
    "        return ret\n",
    "    def get_lc(self, u, start, end):\n",
    "        ret = np.zeros(end-start)\n",
    "        for k in range(0, self.N_deg, 1):\n",
    "            ret += self.A[start:end, :, k] @ u**k  \n",
    "        return ret\n",
    "    def get_jac_lc(self, u, u_start, u_end, f_start=None, f_end=None):\n",
    "        if(f_start == None or f_end == None):\n",
    "            f_start, f_end = u_start, u_end\n",
    "            \n",
    "        ret = np.zeros((f_end-f_start, u_end-u_start))\n",
    "        for k in range(1, self.N_deg, 1):\n",
    "            ret += self.A[f_start:f_end, u_start:u_end, k] \\\n",
    "                @ np.diag(k * u[u_start:u_end]**(k-1))\n",
    "        return ret\n",
    "    \n",
    "    def get_jac_gb(self, u_loc, u_prev, s):\n",
    "        start = s[0]\n",
    "        end = s[1]\n",
    "        \n",
    "        J, D = np.zeros((self.N_dim, self.N_dim)), np.zeros((self.N_dim, self.N_dim))\n",
    "\n",
    "        for i in range(s.shape[0]-1):\n",
    "            start = s[i]\n",
    "            end = s[i+1]\n",
    "            \n",
    "            J1 = self.get_jac_lc(u_loc, start, end)\n",
    "            J[start:end, start:end] += J1\n",
    "            D[start:end, start:end] += J1\n",
    "            \n",
    "            J[start:end, end:] += self.get_jac_lc(u_prev, end, self.N_dim, start, end)\n",
    "            J[end:, start:end] += self.get_jac_lc(u_prev, start, end, end, self.N_dim)\n",
    "            \n",
    "        return J, D"
   ]
  },
  {
   "cell_type": "code",
   "execution_count": 4,
   "metadata": {},
   "outputs": [],
   "source": [
    "class newton_solver():\n",
    "    class TimeLog():\n",
    "        def __init__(self, linsol=0, resbld=0, jacbld=0):\n",
    "            self.linsol = linsol\n",
    "            self.resbld = resbld\n",
    "            self.jacbld = jacbld\n",
    "            self.kn = 0\n",
    "    def __init__(self, func, x0):\n",
    "        self.func = func\n",
    "        self.sol = np.zeros(func.N_dim)\n",
    "        self.timelog = self.TimeLog()\n",
    "        self.sol = x0\n",
    "    def solve(self, err = 1e-3):\n",
    "        return_code = 0\n",
    "        return_message = 'OK'\n",
    "        \n",
    "        # Newton iteration parameters\n",
    "        kmax = 45\n",
    "        \n",
    "        for k in range(kmax):\n",
    "            # residual\n",
    "            t_res = -time.time()\n",
    "            R = self.func.get(self.sol)\n",
    "            t_res += time.time()\n",
    "            self.timelog.resbld += t_res\n",
    "            is_converged = np.linalg.norm(R) <= err\n",
    "                \n",
    "            if is_converged:\n",
    "                self.timelog.kn = k\n",
    "                break\n",
    "            elif (k+1 == kmax):\n",
    "                return_message = 'Not converged'\n",
    "                break\n",
    "            \n",
    "            #Jacobian\n",
    "            t_jac = -time.time()\n",
    "            J = self.func.get_jac(self.sol)\n",
    "            t_jac += time.time()\n",
    "            self.timelog.jacbld += t_jac\n",
    "            \n",
    "            # lin solve\n",
    "            t_lin = -time.time()\n",
    "            dX = np.linalg.solve(J, -R)\n",
    "            t_lin += time.time()\n",
    "            self.timelog.linsol += t_lin\n",
    "            \n",
    "            # update\n",
    "            \n",
    "            self.sol += dX\n",
    "            \n",
    "        return self.sol, return_code, return_message"
   ]
  },
  {
   "cell_type": "code",
   "execution_count": 5,
   "metadata": {},
   "outputs": [],
   "source": [
    "class aspen_solver():\n",
    "    class TimeLog():\n",
    "        def __init__(self, Nd = 0):\n",
    "            self.domain_iters = np.zeros(Nd)\n",
    "            self.aspen_iters = 0\n",
    "            \n",
    "            self.gb_resbld = 0\n",
    "\n",
    "            self.lc_resbld = np.zeros(Nd)\n",
    "            self.lc_jacbld = np.zeros(Nd)\n",
    "            self.lc_linsol = np.zeros(Nd)\n",
    "\n",
    "            self.gb_jacbld = 0\n",
    "            self.gb_linsol = 0\n",
    "    def __init__(self, func, Nd, part_func, x0):\n",
    "        self.func = func\n",
    "        self.timelog = self.TimeLog(Nd = Nd)\n",
    "        self.partion = part_func\n",
    "        self.Nd = Nd\n",
    "        self.sol = x0\n",
    "    def solve(self, err = 1e-3):\n",
    "        return_code = 0\n",
    "        return_message = 'OK'\n",
    "        \n",
    "        # aspen iteration parameters\n",
    "        aspen_iters = 25\n",
    "        \n",
    "        # partion strategy\n",
    "        domain_borders = self.partion(self.func.N_dim, self.Nd)\n",
    "        \n",
    "        for j in range(aspen_iters):\n",
    "            # residual\n",
    "            t_res = -time.time()\n",
    "            R = self.func.get(self.sol)\n",
    "            t_res += time.time()\n",
    "            self.timelog.gb_resbld += t_res\n",
    "            is_converged = np.linalg.norm(R) <= err\n",
    "                \n",
    "            if is_converged:\n",
    "                self.timelog.aspen_iters = j\n",
    "                break\n",
    "            elif (j+1 == aspen_iters):\n",
    "                return_message = 'Not converged'\n",
    "                break\n",
    "                \n",
    "            x_local = np.copy(self.sol)\n",
    "            x_local_tmp = np.copy(self.sol)\n",
    "                                  \n",
    "            # Newton iterations param\n",
    "            kmax_lc = 35 \n",
    "            \n",
    "            for i in range(self.Nd):\n",
    "                start = domain_borders[i]\n",
    "                end = domain_borders[i+1]\n",
    "                N = end-start           \n",
    "                \n",
    "                for k in range(kmax_lc):\n",
    "                    # domain res\n",
    "                    t_res = -time.time()\n",
    "                    R = self.func.get_lc(x_local_tmp, start, end)\n",
    "                    t_res += time.time()\n",
    "                    self.timelog.lc_resbld[i] += t_res\n",
    "                    is_converged = np.linalg.norm(R) <= err\n",
    "\n",
    "                    if is_converged:\n",
    "                        self.timelog.domain_iters[i] += k\n",
    "                        x_local[start:end] = x_local_tmp[start:end]\n",
    "                        x_local_tmp[start:end] = self.sol[start:end]\n",
    "                        break\n",
    "                    elif (k+1 == kmax_lc):\n",
    "                        return_message = 'Not converged'\n",
    "                        break\n",
    "            \n",
    "                    #Jacobian\n",
    "                    t_jac = -time.time()\n",
    "                    J = self.func.get_jac_lc(x_local_tmp, start, end)\n",
    "                    t_jac += time.time()\n",
    "                    self.timelog.lc_jacbld[i] += t_jac\n",
    "            \n",
    "                    # lin solve\n",
    "                    t_lin = -time.time()\n",
    "                    dX = np.linalg.solve(J, -R)\n",
    "                    t_lin += time.time()\n",
    "                    self.timelog.lc_linsol[i] += t_lin\n",
    "                    \n",
    "                    # upd\n",
    "                    x_local_tmp[start:end] += dX\n",
    "                    \n",
    "                # Global stage\n",
    "                F = self.sol - x_local\n",
    "                # global jacobain\n",
    "                t_jac = -time.time()\n",
    "                J, D = self.func.get_jac_gb(x_local, self.sol, domain_borders)\n",
    "                t_jac += time.time()\n",
    "                self.timelog.gb_jacbld += t_jac\n",
    "                \n",
    "                # lin solve\n",
    "                t_lin = -time.time()\n",
    "                dX = np.linalg.solve(-J, D@F)\n",
    "                t_lin += time.time()\n",
    "                self.timelog.gb_linsol += t_lin\n",
    "                # update\n",
    "                self.sol += dX\n",
    "            \n",
    "        return self.sol, return_code, return_message"
   ]
  },
  {
   "cell_type": "code",
   "execution_count": 9,
   "metadata": {},
   "outputs": [],
   "source": [
    "func = nonlinear_func(50, 4)\n",
    "\n",
    "A3 = (1+0.05)*np.eye(50)\n",
    "A2 = - 0.005*np.diag(np.arange(50-1), k =1) - 0.005*np.diag(np.arange(50-1), k =-1)\n",
    "A1 = - 0.005*np.diag(np.arange(50-2), k =2) - 0.005*np.diag(np.arange(50-2), k =-2)\n",
    "\n",
    "B = 0.5*np.diag(np.arange(50))\n",
    "\n",
    "func.set_coef(0, B)\n",
    "func.set_coef(3, A3)\n",
    "func.set_coef(2, A2)\n",
    "func.set_coef(1, A2)"
   ]
  },
  {
   "cell_type": "code",
   "execution_count": 10,
   "metadata": {},
   "outputs": [
    {
     "name": "stdout",
     "output_type": "stream",
     "text": [
      "[ 5.21509505e-06 -7.80938434e-01 -9.83686691e-01 -1.12518488e+00\n",
      " -1.23733065e+00 -1.33165484e+00 -1.41379845e+00 -1.48699438e+00\n",
      " -1.55328851e+00 -1.61406733e+00 -1.67031903e+00 -1.72277572e+00\n",
      " -1.77199666e+00 -1.81841987e+00 -1.86239558e+00 -1.90420874e+00\n",
      " -1.94409468e+00 -1.98225027e+00 -2.01884205e+00 -2.05401234e+00\n",
      " -2.08788379e+00 -2.12056299e+00 -2.15214317e+00 -2.18270646e+00\n",
      " -2.21232557e+00 -2.24106526e+00 -2.26898347e+00 -2.29613227e+00\n",
      " -2.32255866e+00 -2.34830520e+00 -2.37341059e+00 -2.39791014e+00\n",
      " -2.42183613e+00 -2.44521821e+00 -2.46808363e+00 -2.49045754e+00\n",
      " -2.51236319e+00 -2.53382212e+00 -2.55485434e+00 -2.57547845e+00\n",
      " -2.59571182e+00 -2.61557065e+00 -2.63507008e+00 -2.65422434e+00\n",
      " -2.67304675e+00 -2.69155005e+00 -2.70974081e+00 -2.72774834e+00\n",
      " -2.74295636e+00 -2.81221563e+00]\n",
      "OK\n"
     ]
    }
   ],
   "source": [
    "x0 = np.ones(50)\n",
    "solver_cl= newton_solver(func, x0)\n",
    "X, code, message = solver_cl.solve()\n",
    "print(X)\n",
    "print(message)"
   ]
  },
  {
   "cell_type": "code",
   "execution_count": 11,
   "metadata": {},
   "outputs": [
    {
     "name": "stdout",
     "output_type": "stream",
     "text": [
      "[ 3.47673003e-06 -7.80938434e-01 -9.83686691e-01 -1.12518461e+00\n",
      " -1.23733065e+00 -1.33165484e+00 -1.41379845e+00 -1.48699438e+00\n",
      " -1.55328851e+00 -1.61406734e+00 -1.67031813e+00 -1.72284692e+00\n",
      " -1.77199570e+00 -1.81841989e+00 -1.86239558e+00 -1.90420874e+00\n",
      " -1.94409468e+00 -1.98225027e+00 -2.01884205e+00 -2.05401234e+00\n",
      " -2.08788379e+00 -2.12056299e+00 -2.15214309e+00 -2.18270978e+00\n",
      " -2.21232889e+00 -2.24106517e+00 -2.26898347e+00 -2.29613227e+00\n",
      " -2.32255866e+00 -2.34830520e+00 -2.37341059e+00 -2.39791014e+00\n",
      " -2.42183613e+00 -2.44521821e+00 -2.46808362e+00 -2.49045774e+00\n",
      " -2.51236217e+00 -2.53382220e+00 -2.55485433e+00 -2.57547845e+00\n",
      " -2.59571182e+00 -2.61557065e+00 -2.63507008e+00 -2.65422434e+00\n",
      " -2.67304675e+00 -2.69155005e+00 -2.70974081e+00 -2.72774834e+00\n",
      " -2.74295636e+00 -2.81221563e+00]\n",
      "OK\n"
     ]
    }
   ],
   "source": [
    "Nd = 4\n",
    "x0 = np.ones(50)\n",
    "part = partion.partion_equally\n",
    "solver_as= aspen_solver(func, 4, part,  x0)\n",
    "X, code, message = solver_as.solve()\n",
    "print(X)\n",
    "print(message)"
   ]
  },
  {
   "cell_type": "code",
   "execution_count": 12,
   "metadata": {},
   "outputs": [
    {
     "name": "stdout",
     "output_type": "stream",
     "text": [
      "---Newton iters vs Aspen iters---\n",
      "Newton:  30, Aspen : 3\n"
     ]
    }
   ],
   "source": [
    "print('---Newton iters vs Aspen iters---')\n",
    "print('Newton:  {}, Aspen : {}'.format(solver_cl.timelog.kn,\n",
    "                                       solver_as.timelog.aspen_iters))"
   ]
  },
  {
   "cell_type": "code",
   "execution_count": 13,
   "metadata": {},
   "outputs": [
    {
     "name": "stdout",
     "output_type": "stream",
     "text": [
      "---local+global time vs newton time---\n",
      "aspen = 0.0341496467590332, newton = 0.044771432876586914\n"
     ]
    }
   ],
   "source": [
    "t1 = solver_as.timelog.gb_resbld+solver_as.timelog.gb_jacbld \\\n",
    "      +solver_as.timelog.gb_linsol+np.sum(solver_as.timelog.lc_resbld) \\\n",
    "      +np.sum(solver_as.timelog.lc_jacbld)+np.sum(solver_as.timelog.lc_linsol)\n",
    "t2 = solver_cl.timelog.resbld+solver_cl.timelog.jacbld \\\n",
    "      +solver_cl.timelog.linsol\n",
    "print('---local+global time vs newton time---')\n",
    "print('aspen = {}, newton = {}'.format(t1, t2))"
   ]
  },
  {
   "cell_type": "code",
   "execution_count": 14,
   "metadata": {},
   "outputs": [
    {
     "data": {
      "image/png": "[encoded data removed]",
      "text/plain": [
       "<Figure size 432x288 with 1 Axes>"
      ]
     },
     "metadata": {},
     "output_type": "display_data"
    }
   ],
   "source": [
    "plt.style.use('dark_background')\n",
    "plt.title('ASPEN')\n",
    "plt.xlabel('num of domain')\n",
    "plt.ylabel('iterations')\n",
    "plt.bar(np.arange(0, Nd, 1, dtype='int'), solver_as.timelog.domain_iters)\n",
    "plt.show()"
   ]
  },
  {
   "cell_type": "code",
   "execution_count": null,
   "metadata": {},
   "outputs": [],
   "source": []
  }
 ],
 "metadata": {
  "kernelspec": {
   "display_name": "Python 3",
   "language": "python",
   "name": "python3"
  },
  "language_info": {
   "codemirror_mode": {
    "name": "ipython",
    "version": 3
   },
   "file_extension": ".py",
   "mimetype": "text/x-python",
   "name": "python",
   "nbconvert_exporter": "python",
   "pygments_lexer": "ipython3",
   "version": "3.8.5"
  }
 },
 "nbformat": 4,
 "nbformat_minor": 4
}
